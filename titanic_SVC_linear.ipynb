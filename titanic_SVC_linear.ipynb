{
 "cells": [
  {
   "cell_type": "markdown",
   "metadata": {
    "id": "VPy9Rv8wbXjo"
   },
   "source": [
    "### titanic"
   ]
  },
  {
   "cell_type": "markdown",
   "metadata": {
    "id": "ENZ4b73VdrCl"
   },
   "source": [
    "os.walk()   \n",
    "指定したディレクトリ（/kaggle/input）以下のすべてのディレクトリとファイルを再帰的にたどる。   \n",
    "os.path.join()    \n",
    "ファイルパスを正しく結合するための関数。   \n",
    "異なるOS間（Windows、Linux、Mac）でも、自動的に適切な区切り文字（/ や \\）を使う、安全で可搬性の高いコード。   \n",
    "ex,   \n",
    "os.path.join(path1, path2, path3, ...)\n",
    "path1, path2, ... をつなげて、1つのパス文字列にする。   \n",
    "区切り文字はOSに応じて自動処理される。   \n",
    "\n",
    "/kaggle/input/   \n",
    "├── dataset1/   \n",
    "│   ├── file1.csv   \n",
    "│   └── file2.csv   \n",
    "├── dataset2/   \n",
    "│   └── file3.csv   \n"
   ]
  },
  {
   "cell_type": "code",
   "execution_count": 5,
   "metadata": {
    "id": "l6Gbf7C3pR6p"
   },
   "outputs": [],
   "source": [
    "# from google.colab import drive\n",
    "# drive.mount('/content/drive')"
   ]
  },
  {
   "cell_type": "code",
   "execution_count": 6,
   "metadata": {
    "id": "1C3ugG1Xnmh5"
   },
   "outputs": [],
   "source": [
    "import pandas as pd\n",
    "train = pd.read_csv(\"titanic_train.csv\", index_col=0) # 学習用データ\n",
    "test = pd.read_csv(\"titanic_test.csv\", index_col=0)   # 評価用データ"
   ]
  },
  {
   "cell_type": "markdown",
   "metadata": {
    "id": "ucv8a5f2sHIr"
   },
   "source": [
    "### trainテーブル(訓練データ)\n",
    "|カラム\tヘッダ名称\tデータ型\t説明|\n",
    "|-------------|\n",
    "0\tid\tint\tインデックスとして使用\n",
    "1\tsurvived\tboolean\t生還結果（1=生還, 0=死亡）\n",
    "2\tpclass\tint\t客室のクラス（1,2,3の順に高級クラス）\n",
    "3\tsex\tchar\t性別\n",
    "4\tage\tint\t年齢\n",
    "5\tsibsp\tint\t乗船していた兄弟、配偶者の数\n",
    "6\tparch\tint\t乗船していた両親、子供の数\n",
    "7\tfare\tfloat\t運賃\n",
    "8\tembarked\tchar\t乗船した港（S=Southampton, C=Cherbourg, Q=Queenstown）"
   ]
  },
  {
   "cell_type": "code",
   "execution_count": 7,
   "metadata": {
    "colab": {
     "base_uri": "https://localhost:8080/",
     "height": 237
    },
    "executionInfo": {
     "elapsed": 49,
     "status": "ok",
     "timestamp": 1757833212555,
     "user": {
      "displayName": "毛島凜乃",
      "userId": "11721115663229112731"
     },
     "user_tz": -540
    },
    "id": "Hom9P8UsrGS3",
    "outputId": "53de90ca-a60d-4630-ed6e-7a7f1b7b2f61"
   },
   "outputs": [
    {
     "data": {
      "text/html": [
       "<div>\n",
       "<style scoped>\n",
       "    .dataframe tbody tr th:only-of-type {\n",
       "        vertical-align: middle;\n",
       "    }\n",
       "\n",
       "    .dataframe tbody tr th {\n",
       "        vertical-align: top;\n",
       "    }\n",
       "\n",
       "    .dataframe thead th {\n",
       "        text-align: right;\n",
       "    }\n",
       "</style>\n",
       "<table border=\"1\" class=\"dataframe\">\n",
       "  <thead>\n",
       "    <tr style=\"text-align: right;\">\n",
       "      <th></th>\n",
       "      <th>survived</th>\n",
       "      <th>pclass</th>\n",
       "      <th>sex</th>\n",
       "      <th>age</th>\n",
       "      <th>sibsp</th>\n",
       "      <th>parch</th>\n",
       "      <th>fare</th>\n",
       "      <th>embarked</th>\n",
       "    </tr>\n",
       "    <tr>\n",
       "      <th>id</th>\n",
       "      <th></th>\n",
       "      <th></th>\n",
       "      <th></th>\n",
       "      <th></th>\n",
       "      <th></th>\n",
       "      <th></th>\n",
       "      <th></th>\n",
       "      <th></th>\n",
       "    </tr>\n",
       "  </thead>\n",
       "  <tbody>\n",
       "    <tr>\n",
       "      <th>3</th>\n",
       "      <td>1</td>\n",
       "      <td>1</td>\n",
       "      <td>female</td>\n",
       "      <td>35.0</td>\n",
       "      <td>1</td>\n",
       "      <td>0</td>\n",
       "      <td>53.1000</td>\n",
       "      <td>S</td>\n",
       "    </tr>\n",
       "    <tr>\n",
       "      <th>4</th>\n",
       "      <td>0</td>\n",
       "      <td>3</td>\n",
       "      <td>male</td>\n",
       "      <td>35.0</td>\n",
       "      <td>0</td>\n",
       "      <td>0</td>\n",
       "      <td>8.0500</td>\n",
       "      <td>S</td>\n",
       "    </tr>\n",
       "    <tr>\n",
       "      <th>7</th>\n",
       "      <td>0</td>\n",
       "      <td>3</td>\n",
       "      <td>male</td>\n",
       "      <td>2.0</td>\n",
       "      <td>3</td>\n",
       "      <td>1</td>\n",
       "      <td>21.0750</td>\n",
       "      <td>S</td>\n",
       "    </tr>\n",
       "    <tr>\n",
       "      <th>9</th>\n",
       "      <td>1</td>\n",
       "      <td>2</td>\n",
       "      <td>female</td>\n",
       "      <td>14.0</td>\n",
       "      <td>1</td>\n",
       "      <td>0</td>\n",
       "      <td>30.0708</td>\n",
       "      <td>C</td>\n",
       "    </tr>\n",
       "    <tr>\n",
       "      <th>11</th>\n",
       "      <td>1</td>\n",
       "      <td>1</td>\n",
       "      <td>female</td>\n",
       "      <td>58.0</td>\n",
       "      <td>0</td>\n",
       "      <td>0</td>\n",
       "      <td>26.5500</td>\n",
       "      <td>S</td>\n",
       "    </tr>\n",
       "  </tbody>\n",
       "</table>\n",
       "</div>"
      ],
      "text/plain": [
       "    survived  pclass     sex   age  sibsp  parch     fare embarked\n",
       "id                                                                \n",
       "3          1       1  female  35.0      1      0  53.1000        S\n",
       "4          0       3    male  35.0      0      0   8.0500        S\n",
       "7          0       3    male   2.0      3      1  21.0750        S\n",
       "9          1       2  female  14.0      1      0  30.0708        C\n",
       "11         1       1  female  58.0      0      0  26.5500        S"
      ]
     },
     "execution_count": 7,
     "metadata": {},
     "output_type": "execute_result"
    }
   ],
   "source": [
    "train.head(5)"
   ]
  },
  {
   "cell_type": "markdown",
   "metadata": {
    "id": "fuQ0kSC_skB7"
   },
   "source": [
    "### testテーブル(評価用データ)\n",
    "\n",
    "|カラム\tヘッダ名称\tデータ型\t説明|\n",
    "|------|\n",
    "0\tid\tint\tインデックスとして使用\n",
    "1\tpclass\tint\t客室のクラス（1,2,3の順に高級クラス）\n",
    "2\tsex\tchar\t性別\n",
    "3\tage\tint\t年齢\n",
    "4\tsibsp\tint\t乗船していた兄弟、配偶者の数\n",
    "5\tparch\tint\t乗船していた両親、子供の数\n",
    "6\tfare\tfloat\t運賃\n",
    "7\tembarked\tchar\t乗船した港（S=Southampton, C=Cherbourg, Q=Queenstown）"
   ]
  },
  {
   "cell_type": "code",
   "execution_count": 8,
   "metadata": {
    "colab": {
     "base_uri": "https://localhost:8080/",
     "height": 237
    },
    "executionInfo": {
     "elapsed": 20,
     "status": "ok",
     "timestamp": 1757833212559,
     "user": {
      "displayName": "毛島凜乃",
      "userId": "11721115663229112731"
     },
     "user_tz": -540
    },
    "id": "wTC2gkYzrNjm",
    "outputId": "36ce44b7-19e6-4d89-ad7b-8f4bcdfe1f20"
   },
   "outputs": [
    {
     "data": {
      "text/html": [
       "<div>\n",
       "<style scoped>\n",
       "    .dataframe tbody tr th:only-of-type {\n",
       "        vertical-align: middle;\n",
       "    }\n",
       "\n",
       "    .dataframe tbody tr th {\n",
       "        vertical-align: top;\n",
       "    }\n",
       "\n",
       "    .dataframe thead th {\n",
       "        text-align: right;\n",
       "    }\n",
       "</style>\n",
       "<table border=\"1\" class=\"dataframe\">\n",
       "  <thead>\n",
       "    <tr style=\"text-align: right;\">\n",
       "      <th></th>\n",
       "      <th>pclass</th>\n",
       "      <th>sex</th>\n",
       "      <th>age</th>\n",
       "      <th>sibsp</th>\n",
       "      <th>parch</th>\n",
       "      <th>fare</th>\n",
       "      <th>embarked</th>\n",
       "    </tr>\n",
       "    <tr>\n",
       "      <th>id</th>\n",
       "      <th></th>\n",
       "      <th></th>\n",
       "      <th></th>\n",
       "      <th></th>\n",
       "      <th></th>\n",
       "      <th></th>\n",
       "      <th></th>\n",
       "    </tr>\n",
       "  </thead>\n",
       "  <tbody>\n",
       "    <tr>\n",
       "      <th>0</th>\n",
       "      <td>3</td>\n",
       "      <td>male</td>\n",
       "      <td>22.0</td>\n",
       "      <td>1</td>\n",
       "      <td>0</td>\n",
       "      <td>7.2500</td>\n",
       "      <td>S</td>\n",
       "    </tr>\n",
       "    <tr>\n",
       "      <th>1</th>\n",
       "      <td>1</td>\n",
       "      <td>female</td>\n",
       "      <td>38.0</td>\n",
       "      <td>1</td>\n",
       "      <td>0</td>\n",
       "      <td>71.2833</td>\n",
       "      <td>C</td>\n",
       "    </tr>\n",
       "    <tr>\n",
       "      <th>2</th>\n",
       "      <td>3</td>\n",
       "      <td>female</td>\n",
       "      <td>26.0</td>\n",
       "      <td>0</td>\n",
       "      <td>0</td>\n",
       "      <td>7.9250</td>\n",
       "      <td>S</td>\n",
       "    </tr>\n",
       "    <tr>\n",
       "      <th>5</th>\n",
       "      <td>3</td>\n",
       "      <td>male</td>\n",
       "      <td>NaN</td>\n",
       "      <td>0</td>\n",
       "      <td>0</td>\n",
       "      <td>8.4583</td>\n",
       "      <td>Q</td>\n",
       "    </tr>\n",
       "    <tr>\n",
       "      <th>6</th>\n",
       "      <td>1</td>\n",
       "      <td>male</td>\n",
       "      <td>54.0</td>\n",
       "      <td>0</td>\n",
       "      <td>0</td>\n",
       "      <td>51.8625</td>\n",
       "      <td>S</td>\n",
       "    </tr>\n",
       "  </tbody>\n",
       "</table>\n",
       "</div>"
      ],
      "text/plain": [
       "    pclass     sex   age  sibsp  parch     fare embarked\n",
       "id                                                      \n",
       "0        3    male  22.0      1      0   7.2500        S\n",
       "1        1  female  38.0      1      0  71.2833        C\n",
       "2        3  female  26.0      0      0   7.9250        S\n",
       "5        3    male   NaN      0      0   8.4583        Q\n",
       "6        1    male  54.0      0      0  51.8625        S"
      ]
     },
     "execution_count": 8,
     "metadata": {},
     "output_type": "execute_result"
    }
   ],
   "source": [
    "test.head()"
   ]
  },
  {
   "cell_type": "markdown",
   "metadata": {
    "id": "MpTE5buQsylT"
   },
   "source": [
    "### sample_submitテーブル(応募用サンプル)\n",
    "サンプルの予測結果が入力された投稿用ファイルのフォーマット\n",
    "\n",
    "|カラム\tヘッダ名称\tデータ型\t説明|\n",
    "|----|\n",
    "0\t無し\tint\tインデックスとして使用\n",
    "1\t無し\tfloat\n",
    "\n",
    "予測した生存確率（0.0～1.0）"
   ]
  },
  {
   "cell_type": "markdown",
   "metadata": {
    "id": "-SsQ3cnMsx8d"
   },
   "source": [
    "### 1.課題設定\n",
    "- 目的変数 = 生存の有無(0or1)\n",
    "- 教師あり学習"
   ]
  },
  {
   "cell_type": "markdown",
   "metadata": {
    "id": "tz0TrLxzyMTv"
   },
   "source": [
    "### 2.データ理解、前処理\n",
    "- .describe()=データのばらつき、.shape=行数と列数、.info()=データの型や欠損値、.value_counts()=空欄以外のカウントなどを使用して、データを理解する\n",
    "- .groupby([]).mean()でおおよその相関を1つの変数に関して確認できる\n",
    "- pd.get_dummies(df).corrwith(df[\"target\"]) ですべての変数に対しての相関係数が確認できる\n",
    "- 外れ値処理\n",
    "- 欠損値除去\n",
    "int = 平均値 , カテゴリ変数 = 最頻値 などで埋める\n",
    "- カテゴリ変数のエンコーディング"
   ]
  },
  {
   "cell_type": "code",
   "execution_count": 9,
   "metadata": {
    "colab": {
     "base_uri": "https://localhost:8080/",
     "height": 300
    },
    "executionInfo": {
     "elapsed": 39,
     "status": "ok",
     "timestamp": 1757833212644,
     "user": {
      "displayName": "毛島凜乃",
      "userId": "11721115663229112731"
     },
     "user_tz": -540
    },
    "id": "HtzMAapurxRy",
    "outputId": "2668d31d-b31e-43e2-cae8-7a8c81dc953b"
   },
   "outputs": [
    {
     "data": {
      "text/html": [
       "<div>\n",
       "<style scoped>\n",
       "    .dataframe tbody tr th:only-of-type {\n",
       "        vertical-align: middle;\n",
       "    }\n",
       "\n",
       "    .dataframe tbody tr th {\n",
       "        vertical-align: top;\n",
       "    }\n",
       "\n",
       "    .dataframe thead th {\n",
       "        text-align: right;\n",
       "    }\n",
       "</style>\n",
       "<table border=\"1\" class=\"dataframe\">\n",
       "  <thead>\n",
       "    <tr style=\"text-align: right;\">\n",
       "      <th></th>\n",
       "      <th>pclass</th>\n",
       "      <th>age</th>\n",
       "      <th>sibsp</th>\n",
       "      <th>parch</th>\n",
       "      <th>fare</th>\n",
       "    </tr>\n",
       "  </thead>\n",
       "  <tbody>\n",
       "    <tr>\n",
       "      <th>count</th>\n",
       "      <td>446.000000</td>\n",
       "      <td>354.000000</td>\n",
       "      <td>446.000000</td>\n",
       "      <td>446.000000</td>\n",
       "      <td>446.000000</td>\n",
       "    </tr>\n",
       "    <tr>\n",
       "      <th>mean</th>\n",
       "      <td>2.320628</td>\n",
       "      <td>30.194915</td>\n",
       "      <td>0.500000</td>\n",
       "      <td>0.331839</td>\n",
       "      <td>30.452381</td>\n",
       "    </tr>\n",
       "    <tr>\n",
       "      <th>std</th>\n",
       "      <td>0.838873</td>\n",
       "      <td>14.899140</td>\n",
       "      <td>1.002805</td>\n",
       "      <td>0.756823</td>\n",
       "      <td>47.186192</td>\n",
       "    </tr>\n",
       "    <tr>\n",
       "      <th>min</th>\n",
       "      <td>1.000000</td>\n",
       "      <td>0.420000</td>\n",
       "      <td>0.000000</td>\n",
       "      <td>0.000000</td>\n",
       "      <td>0.000000</td>\n",
       "    </tr>\n",
       "    <tr>\n",
       "      <th>25%</th>\n",
       "      <td>2.000000</td>\n",
       "      <td>21.000000</td>\n",
       "      <td>0.000000</td>\n",
       "      <td>0.000000</td>\n",
       "      <td>7.895800</td>\n",
       "    </tr>\n",
       "    <tr>\n",
       "      <th>50%</th>\n",
       "      <td>3.000000</td>\n",
       "      <td>28.250000</td>\n",
       "      <td>0.000000</td>\n",
       "      <td>0.000000</td>\n",
       "      <td>13.500000</td>\n",
       "    </tr>\n",
       "    <tr>\n",
       "      <th>75%</th>\n",
       "      <td>3.000000</td>\n",
       "      <td>39.000000</td>\n",
       "      <td>1.000000</td>\n",
       "      <td>0.000000</td>\n",
       "      <td>30.000000</td>\n",
       "    </tr>\n",
       "    <tr>\n",
       "      <th>max</th>\n",
       "      <td>3.000000</td>\n",
       "      <td>74.000000</td>\n",
       "      <td>8.000000</td>\n",
       "      <td>6.000000</td>\n",
       "      <td>512.329200</td>\n",
       "    </tr>\n",
       "  </tbody>\n",
       "</table>\n",
       "</div>"
      ],
      "text/plain": [
       "           pclass         age       sibsp       parch        fare\n",
       "count  446.000000  354.000000  446.000000  446.000000  446.000000\n",
       "mean     2.320628   30.194915    0.500000    0.331839   30.452381\n",
       "std      0.838873   14.899140    1.002805    0.756823   47.186192\n",
       "min      1.000000    0.420000    0.000000    0.000000    0.000000\n",
       "25%      2.000000   21.000000    0.000000    0.000000    7.895800\n",
       "50%      3.000000   28.250000    0.000000    0.000000   13.500000\n",
       "75%      3.000000   39.000000    1.000000    0.000000   30.000000\n",
       "max      3.000000   74.000000    8.000000    6.000000  512.329200"
      ]
     },
     "execution_count": 9,
     "metadata": {},
     "output_type": "execute_result"
    }
   ],
   "source": [
    "test.describe()"
   ]
  },
  {
   "cell_type": "code",
   "execution_count": 10,
   "metadata": {
    "colab": {
     "base_uri": "https://localhost:8080/"
    },
    "executionInfo": {
     "elapsed": 8,
     "status": "ok",
     "timestamp": 1757833212646,
     "user": {
      "displayName": "毛島凜乃",
      "userId": "11721115663229112731"
     },
     "user_tz": -540
    },
    "id": "r-jO-MjT0wUF",
    "outputId": "8a65f6d8-d983-4c90-9e71-545d4ed20f7e"
   },
   "outputs": [
    {
     "name": "stdout",
     "output_type": "stream",
     "text": [
      "(445, 8)\n",
      "(446, 7)\n"
     ]
    }
   ],
   "source": [
    "print(train.shape)\n",
    "print(test.shape)"
   ]
  },
  {
   "cell_type": "code",
   "execution_count": 11,
   "metadata": {
    "colab": {
     "base_uri": "https://localhost:8080/"
    },
    "executionInfo": {
     "elapsed": 62,
     "status": "ok",
     "timestamp": 1757833212705,
     "user": {
      "displayName": "毛島凜乃",
      "userId": "11721115663229112731"
     },
     "user_tz": -540
    },
    "id": "fuAYWAXf09QJ",
    "outputId": "95fd3997-b26b-4754-f656-2dafaaac08c8"
   },
   "outputs": [
    {
     "name": "stdout",
     "output_type": "stream",
     "text": [
      "<class 'pandas.core.frame.DataFrame'>\n",
      "Index: 445 entries, 3 to 888\n",
      "Data columns (total 8 columns):\n",
      " #   Column    Non-Null Count  Dtype  \n",
      "---  ------    --------------  -----  \n",
      " 0   survived  445 non-null    int64  \n",
      " 1   pclass    445 non-null    int64  \n",
      " 2   sex       445 non-null    object \n",
      " 3   age       360 non-null    float64\n",
      " 4   sibsp     445 non-null    int64  \n",
      " 5   parch     445 non-null    int64  \n",
      " 6   fare      445 non-null    float64\n",
      " 7   embarked  443 non-null    object \n",
      "dtypes: float64(2), int64(4), object(2)\n",
      "memory usage: 31.3+ KB\n"
     ]
    }
   ],
   "source": [
    "train.info()"
   ]
  },
  {
   "cell_type": "code",
   "execution_count": 12,
   "metadata": {
    "colab": {
     "base_uri": "https://localhost:8080/"
    },
    "collapsed": true,
    "executionInfo": {
     "elapsed": 7,
     "status": "ok",
     "timestamp": 1757833212706,
     "user": {
      "displayName": "毛島凜乃",
      "userId": "11721115663229112731"
     },
     "user_tz": -540
    },
    "id": "W2BDN7Oh0_rO",
    "outputId": "52917575-0270-4501-d863-acff580c6510"
   },
   "outputs": [
    {
     "name": "stdout",
     "output_type": "stream",
     "text": [
      "<class 'pandas.core.frame.DataFrame'>\n",
      "Index: 446 entries, 0 to 890\n",
      "Data columns (total 7 columns):\n",
      " #   Column    Non-Null Count  Dtype  \n",
      "---  ------    --------------  -----  \n",
      " 0   pclass    446 non-null    int64  \n",
      " 1   sex       446 non-null    object \n",
      " 2   age       354 non-null    float64\n",
      " 3   sibsp     446 non-null    int64  \n",
      " 4   parch     446 non-null    int64  \n",
      " 5   fare      446 non-null    float64\n",
      " 6   embarked  446 non-null    object \n",
      "dtypes: float64(2), int64(3), object(2)\n",
      "memory usage: 27.9+ KB\n"
     ]
    }
   ],
   "source": [
    "test.info()"
   ]
  },
  {
   "cell_type": "code",
   "execution_count": 13,
   "metadata": {
    "colab": {
     "base_uri": "https://localhost:8080/",
     "height": 388
    },
    "collapsed": true,
    "executionInfo": {
     "elapsed": 82,
     "status": "ok",
     "timestamp": 1757833212786,
     "user": {
      "displayName": "毛島凜乃",
      "userId": "11721115663229112731"
     },
     "user_tz": -540
    },
    "id": "4KIkNxP9zrDX",
    "outputId": "34ce46b6-26ea-461f-d094-4ea2bd578fe5"
   },
   "outputs": [
    {
     "data": {
      "image/png": "[encoded data removed]",
      "text/plain": [
       "<Figure size 600x400 with 1 Axes>"
      ]
     },
     "metadata": {},
     "output_type": "display_data"
    }
   ],
   "source": [
    "import matplotlib.pyplot as plt\n",
    "\n",
    "\n",
    "# 箱ひげ図の描画\n",
    "plt.figure(figsize=(6, 4))\n",
    "plt.boxplot(test['fare'], vert=False, patch_artist=True)\n",
    "plt.xlabel(\"Value\")\n",
    "plt.grid(True)\n",
    "plt.show()\n"
   ]
  },
  {
   "cell_type": "code",
   "execution_count": 14,
   "metadata": {
    "colab": {
     "base_uri": "https://localhost:8080/",
     "height": 272
    },
    "executionInfo": {
     "elapsed": 56,
     "status": "ok",
     "timestamp": 1757833212841,
     "user": {
      "displayName": "毛島凜乃",
      "userId": "11721115663229112731"
     },
     "user_tz": -540
    },
    "id": "h3ZqF5Lf0JhY",
    "outputId": "b3298f41-ea94-4364-fbdc-a17fab3cc21f"
   },
   "outputs": [
    {
     "data": {
      "text/plain": [
       "id\n",
       "0    22.0\n",
       "1    38.0\n",
       "2    26.0\n",
       "5     NaN\n",
       "6    54.0\n",
       "Name: age, dtype: float64"
      ]
     },
     "execution_count": 14,
     "metadata": {},
     "output_type": "execute_result"
    }
   ],
   "source": [
    "# plt.boxplot(test['age'], vert=False, patch_artist=True)\n",
    "# plt.xlabel(\"Value\")\n",
    "# plt.grid(True)\n",
    "# plt.show()\n",
    "test['age'].head()"
   ]
  },
  {
   "cell_type": "code",
   "execution_count": 15,
   "metadata": {
    "colab": {
     "base_uri": "https://localhost:8080/",
     "height": 580
    },
    "collapsed": true,
    "executionInfo": {
     "elapsed": 141,
     "status": "ok",
     "timestamp": 1757833212984,
     "user": {
      "displayName": "毛島凜乃",
      "userId": "11721115663229112731"
     },
     "user_tz": -540
    },
    "id": "5p0g4t2X0NcM",
    "outputId": "c66789ab-8607-4b33-e6f7-29bd73e3382d"
   },
   "outputs": [
    {
     "data": {
      "text/plain": [
       "{'whiskers': [<matplotlib.lines.Line2D at 0x1ad1c5ebad0>,\n",
       "  <matplotlib.lines.Line2D at 0x1ad1c5ea1d0>],\n",
       " 'caps': [<matplotlib.lines.Line2D at 0x1ad1c5e5250>,\n",
       "  <matplotlib.lines.Line2D at 0x1ad1c5e6350>],\n",
       " 'boxes': [<matplotlib.patches.PathPatch at 0x1ad1c5e8750>],\n",
       " 'medians': [<matplotlib.lines.Line2D at 0x1ad1c5e7350>],\n",
       " 'fliers': [<matplotlib.lines.Line2D at 0x1ad1c5e6d50>],\n",
       " 'means': []}"
      ]
     },
     "execution_count": 15,
     "metadata": {},
     "output_type": "execute_result"
    },
    {
     "data": {
      "image/png": "[encoded data removed]",
      "text/plain": [
       "<Figure size 640x480 with 1 Axes>"
      ]
     },
     "metadata": {},
     "output_type": "display_data"
    }
   ],
   "source": [
    "plt.boxplot(test['sibsp'], vert=False, patch_artist=True)\n",
    "#家族の人数\n"
   ]
  },
  {
   "cell_type": "code",
   "execution_count": 16,
   "metadata": {
    "colab": {
     "base_uri": "https://localhost:8080/",
     "height": 580
    },
    "collapsed": true,
    "executionInfo": {
     "elapsed": 144,
     "status": "ok",
     "timestamp": 1757833213120,
     "user": {
      "displayName": "毛島凜乃",
      "userId": "11721115663229112731"
     },
     "user_tz": -540
    },
    "id": "hsE7UpFn0PUY",
    "outputId": "b0c2e5cd-be0f-4704-f4ec-056614715cd5"
   },
   "outputs": [
    {
     "data": {
      "text/plain": [
       "{'whiskers': [<matplotlib.lines.Line2D at 0x1ad1e68a010>,\n",
       "  <matplotlib.lines.Line2D at 0x1ad1e68ad10>],\n",
       " 'caps': [<matplotlib.lines.Line2D at 0x1ad1e68b990>,\n",
       "  <matplotlib.lines.Line2D at 0x1ad1e6903d0>],\n",
       " 'boxes': [<matplotlib.patches.PathPatch at 0x1ad1e6896d0>],\n",
       " 'medians': [<matplotlib.lines.Line2D at 0x1ad1e690f90>],\n",
       " 'fliers': [<matplotlib.lines.Line2D at 0x1ad1e6919d0>],\n",
       " 'means': []}"
      ]
     },
     "execution_count": 16,
     "metadata": {},
     "output_type": "execute_result"
    },
    {
     "data": {
      "image/png": "[encoded data removed]",
      "text/plain": [
       "<Figure size 640x480 with 1 Axes>"
      ]
     },
     "metadata": {},
     "output_type": "display_data"
    }
   ],
   "source": [
    "plt.boxplot(test['parch'], vert=False, patch_artist=True)\n",
    "#家族の人数"
   ]
  },
  {
   "cell_type": "code",
   "execution_count": 17,
   "metadata": {
    "colab": {
     "base_uri": "https://localhost:8080/",
     "height": 174
    },
    "executionInfo": {
     "elapsed": 38,
     "status": "ok",
     "timestamp": 1757833213122,
     "user": {
      "displayName": "毛島凜乃",
      "userId": "11721115663229112731"
     },
     "user_tz": -540
    },
    "id": "i97CIYwI2enR",
    "outputId": "e98d9378-2b9a-4131-c95d-1936d951937d"
   },
   "outputs": [
    {
     "data": {
      "text/html": [
       "<div>\n",
       "<style scoped>\n",
       "    .dataframe tbody tr th:only-of-type {\n",
       "        vertical-align: middle;\n",
       "    }\n",
       "\n",
       "    .dataframe tbody tr th {\n",
       "        vertical-align: top;\n",
       "    }\n",
       "\n",
       "    .dataframe thead th {\n",
       "        text-align: right;\n",
       "    }\n",
       "</style>\n",
       "<table border=\"1\" class=\"dataframe\">\n",
       "  <thead>\n",
       "    <tr style=\"text-align: right;\">\n",
       "      <th></th>\n",
       "      <th>survived</th>\n",
       "    </tr>\n",
       "    <tr>\n",
       "      <th>pclass</th>\n",
       "      <th></th>\n",
       "    </tr>\n",
       "  </thead>\n",
       "  <tbody>\n",
       "    <tr>\n",
       "      <th>1</th>\n",
       "      <td>0.685185</td>\n",
       "    </tr>\n",
       "    <tr>\n",
       "      <th>2</th>\n",
       "      <td>0.443299</td>\n",
       "    </tr>\n",
       "    <tr>\n",
       "      <th>3</th>\n",
       "      <td>0.258333</td>\n",
       "    </tr>\n",
       "  </tbody>\n",
       "</table>\n",
       "</div>"
      ],
      "text/plain": [
       "        survived\n",
       "pclass          \n",
       "1       0.685185\n",
       "2       0.443299\n",
       "3       0.258333"
      ]
     },
     "execution_count": 17,
     "metadata": {},
     "output_type": "execute_result"
    }
   ],
   "source": [
    "train[['pclass', 'survived']].groupby(['pclass']).mean()"
   ]
  },
  {
   "cell_type": "code",
   "execution_count": 18,
   "metadata": {
    "colab": {
     "base_uri": "https://localhost:8080/",
     "height": 143
    },
    "executionInfo": {
     "elapsed": 10,
     "status": "ok",
     "timestamp": 1757833213176,
     "user": {
      "displayName": "毛島凜乃",
      "userId": "11721115663229112731"
     },
     "user_tz": -540
    },
    "id": "-rIrcero2ktd",
    "outputId": "5c3e21de-7732-4d35-912e-c393f01c3713"
   },
   "outputs": [
    {
     "data": {
      "text/html": [
       "<div>\n",
       "<style scoped>\n",
       "    .dataframe tbody tr th:only-of-type {\n",
       "        vertical-align: middle;\n",
       "    }\n",
       "\n",
       "    .dataframe tbody tr th {\n",
       "        vertical-align: top;\n",
       "    }\n",
       "\n",
       "    .dataframe thead th {\n",
       "        text-align: right;\n",
       "    }\n",
       "</style>\n",
       "<table border=\"1\" class=\"dataframe\">\n",
       "  <thead>\n",
       "    <tr style=\"text-align: right;\">\n",
       "      <th></th>\n",
       "      <th>survived</th>\n",
       "    </tr>\n",
       "    <tr>\n",
       "      <th>sex</th>\n",
       "      <th></th>\n",
       "    </tr>\n",
       "  </thead>\n",
       "  <tbody>\n",
       "    <tr>\n",
       "      <th>female</th>\n",
       "      <td>0.775641</td>\n",
       "    </tr>\n",
       "    <tr>\n",
       "      <th>male</th>\n",
       "      <td>0.200692</td>\n",
       "    </tr>\n",
       "  </tbody>\n",
       "</table>\n",
       "</div>"
      ],
      "text/plain": [
       "        survived\n",
       "sex             \n",
       "female  0.775641\n",
       "male    0.200692"
      ]
     },
     "execution_count": 18,
     "metadata": {},
     "output_type": "execute_result"
    }
   ],
   "source": [
    "train[['sex', 'survived']].groupby(['sex']).mean()"
   ]
  },
  {
   "cell_type": "code",
   "execution_count": 19,
   "metadata": {
    "colab": {
     "base_uri": "https://localhost:8080/"
    },
    "executionInfo": {
     "elapsed": 9,
     "status": "ok",
     "timestamp": 1757833213178,
     "user": {
      "displayName": "毛島凜乃",
      "userId": "11721115663229112731"
     },
     "user_tz": -540
    },
    "id": "QzbrOnH267AK",
    "outputId": "d7f5b0bf-d3b8-491b-9342-700b116f195e"
   },
   "outputs": [
    {
     "name": "stdout",
     "output_type": "stream",
     "text": [
      "<class 'pandas.core.frame.DataFrame'>\n",
      "Index: 891 entries, 3 to 890\n",
      "Data columns (total 8 columns):\n",
      " #   Column    Non-Null Count  Dtype  \n",
      "---  ------    --------------  -----  \n",
      " 0   survived  445 non-null    float64\n",
      " 1   pclass    891 non-null    int64  \n",
      " 2   sex       891 non-null    object \n",
      " 3   age       714 non-null    float64\n",
      " 4   sibsp     891 non-null    int64  \n",
      " 5   parch     891 non-null    int64  \n",
      " 6   fare      891 non-null    float64\n",
      " 7   embarked  889 non-null    object \n",
      "dtypes: float64(3), int64(3), object(2)\n",
      "memory usage: 62.6+ KB\n"
     ]
    }
   ],
   "source": [
    "# age = 平均 , embarked(入船港) = 最頻値 でNaNを埋める\n",
    "data = pd.concat([train, test])\n",
    "data.info()\n",
    "data['age'] = data['age'].fillna(data['age'].mean())\n",
    "data['embarked'] = data['embarked'].fillna(data['embarked'].mode())"
   ]
  },
  {
   "cell_type": "code",
   "execution_count": 20,
   "metadata": {
    "colab": {
     "base_uri": "https://localhost:8080/"
    },
    "executionInfo": {
     "elapsed": 29,
     "status": "ok",
     "timestamp": 1757833213204,
     "user": {
      "displayName": "毛島凜乃",
      "userId": "11721115663229112731"
     },
     "user_tz": -540
    },
    "id": "VfHdBKqn3NZW",
    "outputId": "fc3be847-73f7-42f3-9455-fb75647132ca"
   },
   "outputs": [
    {
     "name": "stdout",
     "output_type": "stream",
     "text": [
      "<class 'pandas.core.frame.DataFrame'>\n",
      "Index: 891 entries, 3 to 890\n",
      "Data columns (total 10 columns):\n",
      " #   Column    Non-Null Count  Dtype  \n",
      "---  ------    --------------  -----  \n",
      " 0   survived  445 non-null    float64\n",
      " 1   pclass    891 non-null    int64  \n",
      " 2   sex       891 non-null    object \n",
      " 3   age       891 non-null    float64\n",
      " 4   sibsp     891 non-null    int64  \n",
      " 5   parch     891 non-null    int64  \n",
      " 6   fare      891 non-null    float64\n",
      " 7   embarked  889 non-null    object \n",
      " 8   female    891 non-null    float64\n",
      " 9   male      891 non-null    float64\n",
      "dtypes: float64(5), int64(3), object(2)\n",
      "memory usage: 76.6+ KB\n"
     ]
    }
   ],
   "source": [
    "#性別を1,0に分ける\n",
    "pd.get_dummies(data[\"sex\"], dtype=float)\n",
    "data = data.merge(pd.get_dummies(data[\"sex\"],dtype=float),on = \"id\")\n",
    "data.info()"
   ]
  },
  {
   "cell_type": "code",
   "execution_count": 21,
   "metadata": {
    "colab": {
     "base_uri": "https://localhost:8080/"
    },
    "executionInfo": {
     "elapsed": 5,
     "status": "ok",
     "timestamp": 1757833213208,
     "user": {
      "displayName": "毛島凜乃",
      "userId": "11721115663229112731"
     },
     "user_tz": -540
    },
    "id": "Rbp4JoXR4_Qs",
    "outputId": "698b3d12-251b-4023-90be-e6213bfaf530"
   },
   "outputs": [
    {
     "name": "stdout",
     "output_type": "stream",
     "text": [
      "<class 'pandas.core.frame.DataFrame'>\n",
      "Index: 891 entries, 3 to 890\n",
      "Data columns (total 13 columns):\n",
      " #   Column    Non-Null Count  Dtype  \n",
      "---  ------    --------------  -----  \n",
      " 0   survived  445 non-null    float64\n",
      " 1   pclass    891 non-null    int64  \n",
      " 2   sex       891 non-null    object \n",
      " 3   age       891 non-null    float64\n",
      " 4   sibsp     891 non-null    int64  \n",
      " 5   parch     891 non-null    int64  \n",
      " 6   fare      891 non-null    float64\n",
      " 7   embarked  889 non-null    object \n",
      " 8   female    891 non-null    float64\n",
      " 9   male      891 non-null    float64\n",
      " 10  C         891 non-null    float64\n",
      " 11  Q         891 non-null    float64\n",
      " 12  S         891 non-null    float64\n",
      "dtypes: float64(8), int64(3), object(2)\n",
      "memory usage: 97.5+ KB\n"
     ]
    }
   ],
   "source": [
    "#出発港にダミー変数をつける\n",
    "pd.get_dummies(data[\"embarked\"], dtype=float)\n",
    "data = data.merge(pd.get_dummies(data[\"embarked\"],dtype=float),on = \"id\")\n",
    "data.info()"
   ]
  },
  {
   "cell_type": "code",
   "execution_count": 22,
   "metadata": {
    "colab": {
     "base_uri": "https://localhost:8080/",
     "height": 237
    },
    "executionInfo": {
     "elapsed": 45,
     "status": "ok",
     "timestamp": 1757833213254,
     "user": {
      "displayName": "毛島凜乃",
      "userId": "11721115663229112731"
     },
     "user_tz": -540
    },
    "id": "TaeF2bEA5MeR",
    "outputId": "43dd1138-3856-44b8-bd06-0e442dd117e7"
   },
   "outputs": [
    {
     "data": {
      "text/html": [
       "<div>\n",
       "<style scoped>\n",
       "    .dataframe tbody tr th:only-of-type {\n",
       "        vertical-align: middle;\n",
       "    }\n",
       "\n",
       "    .dataframe tbody tr th {\n",
       "        vertical-align: top;\n",
       "    }\n",
       "\n",
       "    .dataframe thead th {\n",
       "        text-align: right;\n",
       "    }\n",
       "</style>\n",
       "<table border=\"1\" class=\"dataframe\">\n",
       "  <thead>\n",
       "    <tr style=\"text-align: right;\">\n",
       "      <th></th>\n",
       "      <th>survived</th>\n",
       "      <th>pclass</th>\n",
       "      <th>age</th>\n",
       "      <th>sibsp</th>\n",
       "      <th>parch</th>\n",
       "      <th>fare</th>\n",
       "      <th>sex</th>\n",
       "      <th>C</th>\n",
       "      <th>Q</th>\n",
       "      <th>S</th>\n",
       "    </tr>\n",
       "    <tr>\n",
       "      <th>id</th>\n",
       "      <th></th>\n",
       "      <th></th>\n",
       "      <th></th>\n",
       "      <th></th>\n",
       "      <th></th>\n",
       "      <th></th>\n",
       "      <th></th>\n",
       "      <th></th>\n",
       "      <th></th>\n",
       "      <th></th>\n",
       "    </tr>\n",
       "  </thead>\n",
       "  <tbody>\n",
       "    <tr>\n",
       "      <th>3</th>\n",
       "      <td>1.0</td>\n",
       "      <td>1</td>\n",
       "      <td>35.0</td>\n",
       "      <td>1</td>\n",
       "      <td>0</td>\n",
       "      <td>53.1000</td>\n",
       "      <td>1.0</td>\n",
       "      <td>0.0</td>\n",
       "      <td>0.0</td>\n",
       "      <td>1.0</td>\n",
       "    </tr>\n",
       "    <tr>\n",
       "      <th>4</th>\n",
       "      <td>0.0</td>\n",
       "      <td>3</td>\n",
       "      <td>35.0</td>\n",
       "      <td>0</td>\n",
       "      <td>0</td>\n",
       "      <td>8.0500</td>\n",
       "      <td>0.0</td>\n",
       "      <td>0.0</td>\n",
       "      <td>0.0</td>\n",
       "      <td>1.0</td>\n",
       "    </tr>\n",
       "    <tr>\n",
       "      <th>7</th>\n",
       "      <td>0.0</td>\n",
       "      <td>3</td>\n",
       "      <td>2.0</td>\n",
       "      <td>3</td>\n",
       "      <td>1</td>\n",
       "      <td>21.0750</td>\n",
       "      <td>0.0</td>\n",
       "      <td>0.0</td>\n",
       "      <td>0.0</td>\n",
       "      <td>1.0</td>\n",
       "    </tr>\n",
       "    <tr>\n",
       "      <th>9</th>\n",
       "      <td>1.0</td>\n",
       "      <td>2</td>\n",
       "      <td>14.0</td>\n",
       "      <td>1</td>\n",
       "      <td>0</td>\n",
       "      <td>30.0708</td>\n",
       "      <td>1.0</td>\n",
       "      <td>1.0</td>\n",
       "      <td>0.0</td>\n",
       "      <td>0.0</td>\n",
       "    </tr>\n",
       "    <tr>\n",
       "      <th>11</th>\n",
       "      <td>1.0</td>\n",
       "      <td>1</td>\n",
       "      <td>58.0</td>\n",
       "      <td>0</td>\n",
       "      <td>0</td>\n",
       "      <td>26.5500</td>\n",
       "      <td>1.0</td>\n",
       "      <td>0.0</td>\n",
       "      <td>0.0</td>\n",
       "      <td>1.0</td>\n",
       "    </tr>\n",
       "  </tbody>\n",
       "</table>\n",
       "</div>"
      ],
      "text/plain": [
       "    survived  pclass   age  sibsp  parch     fare  sex    C    Q    S\n",
       "id                                                                   \n",
       "3        1.0       1  35.0      1      0  53.1000  1.0  0.0  0.0  1.0\n",
       "4        0.0       3  35.0      0      0   8.0500  0.0  0.0  0.0  1.0\n",
       "7        0.0       3   2.0      3      1  21.0750  0.0  0.0  0.0  1.0\n",
       "9        1.0       2  14.0      1      0  30.0708  1.0  1.0  0.0  0.0\n",
       "11       1.0       1  58.0      0      0  26.5500  1.0  0.0  0.0  1.0"
      ]
     },
     "execution_count": 22,
     "metadata": {},
     "output_type": "execute_result"
    }
   ],
   "source": [
    "# 女性なら1,男性なら0\n",
    "data.drop([\"sex\", \"embarked\",\"male\"], axis=1, inplace=True)\n",
    "data.rename(columns={'female': 'sex'}, inplace=True)\n",
    "data.head()"
   ]
  },
  {
   "cell_type": "code",
   "execution_count": 23,
   "metadata": {
    "cellView": "form",
    "colab": {
     "base_uri": "https://localhost:8080/",
     "height": 449
    },
    "collapsed": true,
    "executionInfo": {
     "elapsed": 227,
     "status": "ok",
     "timestamp": 1757833213483,
     "user": {
      "displayName": "毛島凜乃",
      "userId": "11721115663229112731"
     },
     "user_tz": -540
    },
    "id": "VKiRNPFVqU59",
    "outputId": "a40096a5-ab50-4bd4-aaa4-99c53c615ff6"
   },
   "outputs": [
    {
     "data": {
      "image/png": "[encoded data removed]",
      "text/plain": [
       "<Figure size 640x480 with 1 Axes>"
      ]
     },
     "metadata": {},
     "output_type": "display_data"
    }
   ],
   "source": [
    "# @title 散布図で可視化\n",
    "\n",
    "from matplotlib import pyplot as plt\n",
    "data.plot(kind='scatter', x='parch', y='survived', s=32, alpha=.1)\n",
    "plt.gca().spines[['top', 'right',]].set_visible(False)"
   ]
  },
  {
   "cell_type": "markdown",
   "metadata": {
    "id": "9m1XuXlQpqhe"
   },
   "source": [
    "### PowerTransformer\n",
    "\n",
    "やっていること    \n",
    "Box-Cox変換やYeo-Johnson変換といった 非線形変換 を使って、\n",
    "データの 分布そのものを「正規分布っぽく」変形 する。\n",
    "\n",
    "前提\n",
    "\n",
    "Box-Cox：入力が正の値だけのとき\n",
    "\n",
    "Yeo-Johnson：負の値を含んでもOK\n",
    "\n",
    "特徴\n",
    "\n",
    "歪度を取り除き、よりガウス分布に近づける。\n",
    "\n",
    "線形モデルや正則化手法でうまく効くことがある。\n",
    "\n",
    "外れ値にもある程度強い。\n",
    "\n",
    "### flatten\n",
    "多次元をペッタンコにして一本の配列にする関数"
   ]
  },
  {
   "cell_type": "code",
   "execution_count": 24,
   "metadata": {
    "colab": {
     "base_uri": "https://localhost:8080/"
    },
    "collapsed": true,
    "executionInfo": {
     "elapsed": 12,
     "status": "ok",
     "timestamp": 1757833213504,
     "user": {
      "displayName": "毛島凜乃",
      "userId": "11721115663229112731"
     },
     "user_tz": -540
    },
    "id": "rPQ-vnHit3vp",
    "outputId": "922b0d3b-84c4-4c6d-e379-87b0274ca681"
   },
   "outputs": [
    {
     "name": "stdout",
     "output_type": "stream",
     "text": [
      "    survived  pclass  sibsp  parch     fare  sex    C    Q    S       age\n",
      "3        1.0       1      1      0  53.1000  1.0  0.0  0.0  1.0 -1.225013\n",
      "4        0.0       3      0      0   8.0500  0.0  0.0  0.0  1.0  2.024106\n",
      "7        0.0       3      3      1  21.0750  0.0  0.0  0.0  1.0  0.051826\n",
      "9        1.0       2      1      0  30.0708  1.0  1.0  0.0  0.0 -1.779518\n",
      "11       1.0       1      0      0  26.5500  1.0  0.0  0.0  1.0  0.051826\n",
      "13       0.0       3      1      5  31.2750  0.0  0.0  0.0  1.0  0.051826\n",
      "16       0.0       3      4      1  29.1250  0.0  0.0  1.0  0.0  0.051826\n",
      "19       1.0       3      0      0   7.2250  1.0  1.0  0.0  0.0 -2.300174\n",
      "23       1.0       1      0      0  35.5000  0.0  0.0  0.0  1.0 -0.631690\n",
      "24       0.0       3      3      1  21.0750  1.0  0.0  0.0  1.0 -0.039418\n"
     ]
    }
   ],
   "source": [
    "# @title 外れ値があるage,sibsp,parch,fareの値を正規化\n",
    "from sklearn.preprocessing import PowerTransformer\n",
    "pt = PowerTransformer(method=\"yeo-johnson\")\n",
    "age = pt.fit_transform(data[\"age\"].values.reshape(-1, 1))\n",
    "age_trans = pt.fit_transform(age)\n",
    "age_trans = pd.DataFrame(age_trans, columns=[\"age2\"])\n",
    "data = pd.concat([data,age_trans],axis=1)\n",
    "data = data.drop([\"age\"],axis=1)\n",
    "data = data.rename(columns={\"age2\":\"age\"})\n",
    "data.head(10)\n",
    "print(data.head(10))"
   ]
  },
  {
   "cell_type": "code",
   "execution_count": 25,
   "metadata": {
    "colab": {
     "base_uri": "https://localhost:8080/"
    },
    "collapsed": true,
    "executionInfo": {
     "elapsed": 35,
     "status": "ok",
     "timestamp": 1757833213558,
     "user": {
      "displayName": "毛島凜乃",
      "userId": "11721115663229112731"
     },
     "user_tz": -540
    },
    "id": "YAaeAY7Y3duO",
    "outputId": "17ca64b4-9848-45be-848f-a4ba648a7ca2"
   },
   "outputs": [
    {
     "name": "stdout",
     "output_type": "stream",
     "text": [
      "    survived  pclass  parch     fare  sex    C    Q    S       age     sibsp\n",
      "3        1.0       1      0  53.1000  1.0  0.0  0.0  1.0 -1.225013  1.446505\n",
      "4        0.0       3      0   8.0500  0.0  0.0  0.0  1.0  2.024106 -0.682133\n",
      "7        0.0       3      1  21.0750  0.0  0.0  0.0  1.0  0.051826 -0.682133\n",
      "9        1.0       2      0  30.0708  1.0  1.0  0.0  0.0 -1.779518  1.521794\n",
      "11       1.0       1      0  26.5500  1.0  0.0  0.0  1.0  0.051826 -0.682133\n",
      "13       0.0       3      5  31.2750  0.0  0.0  0.0  1.0  0.051826 -0.682133\n",
      "16       0.0       3      1  29.1250  0.0  0.0  1.0  0.0  0.051826 -0.682133\n",
      "19       1.0       3      0   7.2250  1.0  1.0  0.0  0.0 -2.300174  1.446505\n",
      "23       1.0       1      0  35.5000  0.0  0.0  0.0  1.0 -0.631690 -0.682133\n",
      "24       0.0       3      1  21.0750  1.0  0.0  0.0  1.0 -0.039418 -0.682133\n"
     ]
    }
   ],
   "source": [
    "sibsp = pt.fit_transform(data[\"sibsp\"].values.reshape(-1, 1))\n",
    "sibsp_trans = pt.fit_transform(sibsp)\n",
    "sibsp_trans = pd.DataFrame(sibsp_trans, columns=[\"sibsp2\"])\n",
    "data = pd.concat([data,sibsp_trans],axis=1)\n",
    "data = data.drop([\"sibsp\"],axis=1)\n",
    "data = data.rename(columns={\"sibsp2\":\"sibsp\"})\n",
    "data.head(10)\n",
    "print(data.head(10))"
   ]
  },
  {
   "cell_type": "code",
   "execution_count": 26,
   "metadata": {
    "colab": {
     "base_uri": "https://localhost:8080/"
    },
    "collapsed": true,
    "executionInfo": {
     "elapsed": 49,
     "status": "ok",
     "timestamp": 1757833213619,
     "user": {
      "displayName": "毛島凜乃",
      "userId": "11721115663229112731"
     },
     "user_tz": -540
    },
    "id": "SF4qvR9T3oWk",
    "outputId": "c346f3cc-c7ac-4b65-a36c-8e78dfd7bc6b"
   },
   "outputs": [
    {
     "name": "stdout",
     "output_type": "stream",
     "text": [
      "    survived  pclass     fare  sex    C    Q    S       age     sibsp  \\\n",
      "3        1.0       1  53.1000  1.0  0.0  0.0  1.0 -1.225013  1.446505   \n",
      "4        0.0       3   8.0500  0.0  0.0  0.0  1.0  2.024106 -0.682133   \n",
      "7        0.0       3  21.0750  0.0  0.0  0.0  1.0  0.051826 -0.682133   \n",
      "9        1.0       2  30.0708  1.0  1.0  0.0  0.0 -1.779518  1.521794   \n",
      "11       1.0       1  26.5500  1.0  0.0  0.0  1.0  0.051826 -0.682133   \n",
      "13       0.0       3  31.2750  0.0  0.0  0.0  1.0  0.051826 -0.682133   \n",
      "16       0.0       3  29.1250  0.0  0.0  1.0  0.0  0.051826 -0.682133   \n",
      "19       1.0       3   7.2250  1.0  1.0  0.0  0.0 -2.300174  1.446505   \n",
      "23       1.0       1  35.5000  0.0  0.0  0.0  1.0 -0.631690 -0.682133   \n",
      "24       0.0       3  21.0750  1.0  0.0  0.0  1.0 -0.039418 -0.682133   \n",
      "\n",
      "       parch  \n",
      "3  -0.560497  \n",
      "4  -0.560497  \n",
      "7  -0.560497  \n",
      "9   1.779564  \n",
      "11 -0.560497  \n",
      "13 -0.560497  \n",
      "16 -0.560497  \n",
      "19  1.789483  \n",
      "23 -0.560497  \n",
      "24 -0.560497  \n"
     ]
    }
   ],
   "source": [
    "parch = pt.fit_transform(data[\"parch\"].values.reshape(-1, 1))\n",
    "parch_trans = pt.fit_transform(parch)\n",
    "parch_trans = pd.DataFrame(parch_trans, columns=[\"parch2\"])\n",
    "data = pd.concat([data,parch_trans],axis=1)\n",
    "data = data.drop([\"parch\"],axis=1)\n",
    "data = data.rename(columns={\"parch2\":\"parch\"})\n",
    "data.head(10)\n",
    "print(data.head(10))"
   ]
  },
  {
   "cell_type": "code",
   "execution_count": 27,
   "metadata": {
    "colab": {
     "base_uri": "https://localhost:8080/"
    },
    "executionInfo": {
     "elapsed": 32,
     "status": "ok",
     "timestamp": 1757833213653,
     "user": {
      "displayName": "毛島凜乃",
      "userId": "11721115663229112731"
     },
     "user_tz": -540
    },
    "id": "Ee1mX7243uRt",
    "outputId": "991667aa-2b84-46bd-d586-4346fa0c8274"
   },
   "outputs": [
    {
     "name": "stdout",
     "output_type": "stream",
     "text": [
      "    survived  pclass  sex    C    Q    S       age     sibsp     parch  \\\n",
      "3        1.0       1  1.0  0.0  0.0  1.0 -1.225013  1.446505 -0.560497   \n",
      "4        0.0       3  0.0  0.0  0.0  1.0  2.024106 -0.682133 -0.560497   \n",
      "7        0.0       3  0.0  0.0  0.0  1.0  0.051826 -0.682133 -0.560497   \n",
      "9        1.0       2  1.0  1.0  0.0  0.0 -1.779518  1.521794  1.779564   \n",
      "11       1.0       1  1.0  0.0  0.0  1.0  0.051826 -0.682133 -0.560497   \n",
      "13       0.0       3  0.0  0.0  0.0  1.0  0.051826 -0.682133 -0.560497   \n",
      "16       0.0       3  0.0  0.0  1.0  0.0  0.051826 -0.682133 -0.560497   \n",
      "19       1.0       3  1.0  1.0  0.0  0.0 -2.300174  1.446505  1.789483   \n",
      "23       1.0       1  0.0  0.0  0.0  1.0 -0.631690 -0.682133 -0.560497   \n",
      "24       0.0       3  1.0  0.0  0.0  1.0 -0.039418 -0.682133 -0.560497   \n",
      "\n",
      "        fare  \n",
      "3   0.542359  \n",
      "4   0.424448  \n",
      "7  -0.880616  \n",
      "9   0.202049  \n",
      "11 -0.880616  \n",
      "13 -0.789129  \n",
      "16 -0.880018  \n",
      "19  0.842582  \n",
      "23 -0.496093  \n",
      "24 -0.880018  \n"
     ]
    }
   ],
   "source": [
    "fare = pt.fit_transform(data[\"fare\"].values.reshape(-1, 1))\n",
    "fare_trans = pt.fit_transform(fare)\n",
    "fare_trans = pd.DataFrame(fare_trans, columns=[\"fare2\"])\n",
    "data = pd.concat([data,fare_trans],axis=1)\n",
    "data = data.drop([\"fare\"],axis=1)\n",
    "data = data.rename(columns={\"fare2\":\"fare\"})\n",
    "data.head(10)\n",
    "print(data.head(10))"
   ]
  },
  {
   "cell_type": "code",
   "execution_count": 28,
   "metadata": {
    "colab": {
     "base_uri": "https://localhost:8080/",
     "height": 366
    },
    "executionInfo": {
     "elapsed": 34,
     "status": "ok",
     "timestamp": 1757833213683,
     "user": {
      "displayName": "毛島凜乃",
      "userId": "11721115663229112731"
     },
     "user_tz": -540
    },
    "id": "vSvzqwcZv4D6",
    "outputId": "909628cd-fa90-491e-c9fd-d899da172ea3"
   },
   "outputs": [
    {
     "data": {
      "text/plain": [
       "pclass    446\n",
       "sex       446\n",
       "C         446\n",
       "Q         446\n",
       "S         446\n",
       "age       446\n",
       "sibsp     446\n",
       "parch     446\n",
       "fare      446\n",
       "dtype: int64"
      ]
     },
     "execution_count": 28,
     "metadata": {},
     "output_type": "execute_result"
    }
   ],
   "source": [
    "test = data[data['survived'].isnull()]\n",
    "del test['survived']\n",
    "test.isna().count()"
   ]
  },
  {
   "cell_type": "code",
   "execution_count": 29,
   "metadata": {
    "colab": {
     "base_uri": "https://localhost:8080/",
     "height": 206
    },
    "executionInfo": {
     "elapsed": 19,
     "status": "ok",
     "timestamp": 1757833213703,
     "user": {
      "displayName": "毛島凜乃",
      "userId": "11721115663229112731"
     },
     "user_tz": -540
    },
    "id": "pZtCf8e-w_5p",
    "outputId": "1e7b8f26-e397-4f1b-b36a-d47e0c4fe9d1"
   },
   "outputs": [
    {
     "data": {
      "text/html": [
       "<div>\n",
       "<style scoped>\n",
       "    .dataframe tbody tr th:only-of-type {\n",
       "        vertical-align: middle;\n",
       "    }\n",
       "\n",
       "    .dataframe tbody tr th {\n",
       "        vertical-align: top;\n",
       "    }\n",
       "\n",
       "    .dataframe thead th {\n",
       "        text-align: right;\n",
       "    }\n",
       "</style>\n",
       "<table border=\"1\" class=\"dataframe\">\n",
       "  <thead>\n",
       "    <tr style=\"text-align: right;\">\n",
       "      <th></th>\n",
       "      <th>survived</th>\n",
       "      <th>pclass</th>\n",
       "      <th>sex</th>\n",
       "      <th>C</th>\n",
       "      <th>Q</th>\n",
       "      <th>S</th>\n",
       "      <th>age</th>\n",
       "      <th>sibsp</th>\n",
       "      <th>parch</th>\n",
       "      <th>fare</th>\n",
       "    </tr>\n",
       "  </thead>\n",
       "  <tbody>\n",
       "    <tr>\n",
       "      <th>3</th>\n",
       "      <td>1.0</td>\n",
       "      <td>1</td>\n",
       "      <td>1.0</td>\n",
       "      <td>0.0</td>\n",
       "      <td>0.0</td>\n",
       "      <td>1.0</td>\n",
       "      <td>-1.225013</td>\n",
       "      <td>1.446505</td>\n",
       "      <td>-0.560497</td>\n",
       "      <td>0.542359</td>\n",
       "    </tr>\n",
       "    <tr>\n",
       "      <th>4</th>\n",
       "      <td>0.0</td>\n",
       "      <td>3</td>\n",
       "      <td>0.0</td>\n",
       "      <td>0.0</td>\n",
       "      <td>0.0</td>\n",
       "      <td>1.0</td>\n",
       "      <td>2.024106</td>\n",
       "      <td>-0.682133</td>\n",
       "      <td>-0.560497</td>\n",
       "      <td>0.424448</td>\n",
       "    </tr>\n",
       "    <tr>\n",
       "      <th>7</th>\n",
       "      <td>0.0</td>\n",
       "      <td>3</td>\n",
       "      <td>0.0</td>\n",
       "      <td>0.0</td>\n",
       "      <td>0.0</td>\n",
       "      <td>1.0</td>\n",
       "      <td>0.051826</td>\n",
       "      <td>-0.682133</td>\n",
       "      <td>-0.560497</td>\n",
       "      <td>-0.880616</td>\n",
       "    </tr>\n",
       "    <tr>\n",
       "      <th>9</th>\n",
       "      <td>1.0</td>\n",
       "      <td>2</td>\n",
       "      <td>1.0</td>\n",
       "      <td>1.0</td>\n",
       "      <td>0.0</td>\n",
       "      <td>0.0</td>\n",
       "      <td>-1.779518</td>\n",
       "      <td>1.521794</td>\n",
       "      <td>1.779564</td>\n",
       "      <td>0.202049</td>\n",
       "    </tr>\n",
       "    <tr>\n",
       "      <th>11</th>\n",
       "      <td>1.0</td>\n",
       "      <td>1</td>\n",
       "      <td>1.0</td>\n",
       "      <td>0.0</td>\n",
       "      <td>0.0</td>\n",
       "      <td>1.0</td>\n",
       "      <td>0.051826</td>\n",
       "      <td>-0.682133</td>\n",
       "      <td>-0.560497</td>\n",
       "      <td>-0.880616</td>\n",
       "    </tr>\n",
       "  </tbody>\n",
       "</table>\n",
       "</div>"
      ],
      "text/plain": [
       "    survived  pclass  sex    C    Q    S       age     sibsp     parch  \\\n",
       "3        1.0       1  1.0  0.0  0.0  1.0 -1.225013  1.446505 -0.560497   \n",
       "4        0.0       3  0.0  0.0  0.0  1.0  2.024106 -0.682133 -0.560497   \n",
       "7        0.0       3  0.0  0.0  0.0  1.0  0.051826 -0.682133 -0.560497   \n",
       "9        1.0       2  1.0  1.0  0.0  0.0 -1.779518  1.521794  1.779564   \n",
       "11       1.0       1  1.0  0.0  0.0  1.0  0.051826 -0.682133 -0.560497   \n",
       "\n",
       "        fare  \n",
       "3   0.542359  \n",
       "4   0.424448  \n",
       "7  -0.880616  \n",
       "9   0.202049  \n",
       "11 -0.880616  "
      ]
     },
     "execution_count": 29,
     "metadata": {},
     "output_type": "execute_result"
    }
   ],
   "source": [
    "train = data[data['survived'].notnull()]\n",
    "train.head()"
   ]
  },
  {
   "cell_type": "markdown",
   "metadata": {
    "id": "LtXdrqunzytj"
   },
   "source": [
    "### SVC\n",
    "\n",
    "| カーネル                               | 数式・仕組み                                   | 特徴                 | 長所                            | 短所                             | よく使う場面                     |\n",
    "| ---------------------------------- | ---------------------------------------- | ------------------ | ----------------------------- | ------------------------------ | -------------------------- |\n",
    "| **linear**                         | $K(x, x') = x^\\top x'$                   | 線形分離               | シンプルで高速、係数`coef_`で特徴量の重要度が見える | 非線形関係を表現できない                   | 特徴量が多い・解釈性を重視する時（テキスト分類など） |\n",
    "| **poly（多項式）**                      | $K(x, x') = (x^\\top x' + c)^d$           | 多項式写像              | 非線形を表現できる                     | 次元が爆発しやすい、パラメータ（次数d, c）の調整が難しい | 複雑すぎない非線形境界が欲しいとき          |\n",
    "| **rbf（ガウス/Radial Basis Function）** | $K(x, x') = \\exp(-\\gamma \\|x - x'\\|^2)$  | 局所的な影響を持つ          | 非線形に強い、汎用的                    | γの調整が必要、解釈性なし                  | 一般的なSVMのデフォルト、万能選手         |\n",
    "| **sigmoid**                        | $K(x, x') = \\tanh(\\alpha x^\\top x' + c)$ | ニューラルネットの活性化関数に似てる | 特定状況で有効                       | 不安定になりやすい、使われることは稀             | 実験的に試すとき                   |\n",
    "\n",
    "url = \"https://scikit-learn.org/stable/auto_examples/svm/plot_svm_kernels.html\""
   ]
  },
  {
   "cell_type": "code",
   "execution_count": 30,
   "metadata": {
    "colab": {
     "base_uri": "https://localhost:8080/",
     "height": 80
    },
    "executionInfo": {
     "elapsed": 40,
     "status": "ok",
     "timestamp": 1757833213741,
     "user": {
      "displayName": "毛島凜乃",
      "userId": "11721115663229112731"
     },
     "user_tz": -540
    },
    "id": "3j9EZ4jKvrzt",
    "outputId": "0ae41d3d-5993-4907-ecd6-2ee712894942"
   },
   "outputs": [
    {
     "data": {
      "text/html": [
       "<style>#sk-container-id-1 {\n",
       "  /* Definition of color scheme common for light and dark mode */\n",
       "  --sklearn-color-text: #000;\n",
       "  --sklearn-color-text-muted: #666;\n",
       "  --sklearn-color-line: gray;\n",
       "  /* Definition of color scheme for unfitted estimators */\n",
       "  --sklearn-color-unfitted-level-0: #fff5e6;\n",
       "  --sklearn-color-unfitted-level-1: #f6e4d2;\n",
       "  --sklearn-color-unfitted-level-2: #ffe0b3;\n",
       "  --sklearn-color-unfitted-level-3: chocolate;\n",
       "  /* Definition of color scheme for fitted estimators */\n",
       "  --sklearn-color-fitted-level-0: #f0f8ff;\n",
       "  --sklearn-color-fitted-level-1: #d4ebff;\n",
       "  --sklearn-color-fitted-level-2: #b3dbfd;\n",
       "  --sklearn-color-fitted-level-3: cornflowerblue;\n",
       "\n",
       "  /* Specific color for light theme */\n",
       "  --sklearn-color-text-on-default-background: var(--sg-text-color, var(--theme-code-foreground, var(--jp-content-font-color1, black)));\n",
       "  --sklearn-color-background: var(--sg-background-color, var(--theme-background, var(--jp-layout-color0, white)));\n",
       "  --sklearn-color-border-box: var(--sg-text-color, var(--theme-code-foreground, var(--jp-content-font-color1, black)));\n",
       "  --sklearn-color-icon: #696969;\n",
       "\n",
       "  @media (prefers-color-scheme: dark) {\n",
       "    /* Redefinition of color scheme for dark theme */\n",
       "    --sklearn-color-text-on-default-background: var(--sg-text-color, var(--theme-code-foreground, var(--jp-content-font-color1, white)));\n",
       "    --sklearn-color-background: var(--sg-background-color, var(--theme-background, var(--jp-layout-color0, #111)));\n",
       "    --sklearn-color-border-box: var(--sg-text-color, var(--theme-code-foreground, var(--jp-content-font-color1, white)));\n",
       "    --sklearn-color-icon: #878787;\n",
       "  }\n",
       "}\n",
       "\n",
       "#sk-container-id-1 {\n",
       "  color: var(--sklearn-color-text);\n",
       "}\n",
       "\n",
       "#sk-container-id-1 pre {\n",
       "  padding: 0;\n",
       "}\n",
       "\n",
       "#sk-container-id-1 input.sk-hidden--visually {\n",
       "  border: 0;\n",
       "  clip: rect(1px 1px 1px 1px);\n",
       "  clip: rect(1px, 1px, 1px, 1px);\n",
       "  height: 1px;\n",
       "  margin: -1px;\n",
       "  overflow: hidden;\n",
       "  padding: 0;\n",
       "  position: absolute;\n",
       "  width: 1px;\n",
       "}\n",
       "\n",
       "#sk-container-id-1 div.sk-dashed-wrapped {\n",
       "  border: 1px dashed var(--sklearn-color-line);\n",
       "  margin: 0 0.4em 0.5em 0.4em;\n",
       "  box-sizing: border-box;\n",
       "  padding-bottom: 0.4em;\n",
       "  background-color: var(--sklearn-color-background);\n",
       "}\n",
       "\n",
       "#sk-container-id-1 div.sk-container {\n",
       "  /* jupyter's `normalize.less` sets `[hidden] { display: none; }`\n",
       "     but bootstrap.min.css set `[hidden] { display: none !important; }`\n",
       "     so we also need the `!important` here to be able to override the\n",
       "     default hidden behavior on the sphinx rendered scikit-learn.org.\n",
       "     See: https://github.com/scikit-learn/scikit-learn/issues/21755 */\n",
       "  display: inline-block !important;\n",
       "  position: relative;\n",
       "}\n",
       "\n",
       "#sk-container-id-1 div.sk-text-repr-fallback {\n",
       "  display: none;\n",
       "}\n",
       "\n",
       "div.sk-parallel-item,\n",
       "div.sk-serial,\n",
       "div.sk-item {\n",
       "  /* draw centered vertical line to link estimators */\n",
       "  background-image: linear-gradient(var(--sklearn-color-text-on-default-background), var(--sklearn-color-text-on-default-background));\n",
       "  background-size: 2px 100%;\n",
       "  background-repeat: no-repeat;\n",
       "  background-position: center center;\n",
       "}\n",
       "\n",
       "/* Parallel-specific style estimator block */\n",
       "\n",
       "#sk-container-id-1 div.sk-parallel-item::after {\n",
       "  content: \"\";\n",
       "  width: 100%;\n",
       "  border-bottom: 2px solid var(--sklearn-color-text-on-default-background);\n",
       "  flex-grow: 1;\n",
       "}\n",
       "\n",
       "#sk-container-id-1 div.sk-parallel {\n",
       "  display: flex;\n",
       "  align-items: stretch;\n",
       "  justify-content: center;\n",
       "  background-color: var(--sklearn-color-background);\n",
       "  position: relative;\n",
       "}\n",
       "\n",
       "#sk-container-id-1 div.sk-parallel-item {\n",
       "  display: flex;\n",
       "  flex-direction: column;\n",
       "}\n",
       "\n",
       "#sk-container-id-1 div.sk-parallel-item:first-child::after {\n",
       "  align-self: flex-end;\n",
       "  width: 50%;\n",
       "}\n",
       "\n",
       "#sk-container-id-1 div.sk-parallel-item:last-child::after {\n",
       "  align-self: flex-start;\n",
       "  width: 50%;\n",
       "}\n",
       "\n",
       "#sk-container-id-1 div.sk-parallel-item:only-child::after {\n",
       "  width: 0;\n",
       "}\n",
       "\n",
       "/* Serial-specific style estimator block */\n",
       "\n",
       "#sk-container-id-1 div.sk-serial {\n",
       "  display: flex;\n",
       "  flex-direction: column;\n",
       "  align-items: center;\n",
       "  background-color: var(--sklearn-color-background);\n",
       "  padding-right: 1em;\n",
       "  padding-left: 1em;\n",
       "}\n",
       "\n",
       "\n",
       "/* Toggleable style: style used for estimator/Pipeline/ColumnTransformer box that is\n",
       "clickable and can be expanded/collapsed.\n",
       "- Pipeline and ColumnTransformer use this feature and define the default style\n",
       "- Estimators will overwrite some part of the style using the `sk-estimator` class\n",
       "*/\n",
       "\n",
       "/* Pipeline and ColumnTransformer style (default) */\n",
       "\n",
       "#sk-container-id-1 div.sk-toggleable {\n",
       "  /* Default theme specific background. It is overwritten whether we have a\n",
       "  specific estimator or a Pipeline/ColumnTransformer */\n",
       "  background-color: var(--sklearn-color-background);\n",
       "}\n",
       "\n",
       "/* Toggleable label */\n",
       "#sk-container-id-1 label.sk-toggleable__label {\n",
       "  cursor: pointer;\n",
       "  display: flex;\n",
       "  width: 100%;\n",
       "  margin-bottom: 0;\n",
       "  padding: 0.5em;\n",
       "  box-sizing: border-box;\n",
       "  text-align: center;\n",
       "  align-items: start;\n",
       "  justify-content: space-between;\n",
       "  gap: 0.5em;\n",
       "}\n",
       "\n",
       "#sk-container-id-1 label.sk-toggleable__label .caption {\n",
       "  font-size: 0.6rem;\n",
       "  font-weight: lighter;\n",
       "  color: var(--sklearn-color-text-muted);\n",
       "}\n",
       "\n",
       "#sk-container-id-1 label.sk-toggleable__label-arrow:before {\n",
       "  /* Arrow on the left of the label */\n",
       "  content: \"▸\";\n",
       "  float: left;\n",
       "  margin-right: 0.25em;\n",
       "  color: var(--sklearn-color-icon);\n",
       "}\n",
       "\n",
       "#sk-container-id-1 label.sk-toggleable__label-arrow:hover:before {\n",
       "  color: var(--sklearn-color-text);\n",
       "}\n",
       "\n",
       "/* Toggleable content - dropdown */\n",
       "\n",
       "#sk-container-id-1 div.sk-toggleable__content {\n",
       "  display: none;\n",
       "  text-align: left;\n",
       "  /* unfitted */\n",
       "  background-color: var(--sklearn-color-unfitted-level-0);\n",
       "}\n",
       "\n",
       "#sk-container-id-1 div.sk-toggleable__content.fitted {\n",
       "  /* fitted */\n",
       "  background-color: var(--sklearn-color-fitted-level-0);\n",
       "}\n",
       "\n",
       "#sk-container-id-1 div.sk-toggleable__content pre {\n",
       "  margin: 0.2em;\n",
       "  border-radius: 0.25em;\n",
       "  color: var(--sklearn-color-text);\n",
       "  /* unfitted */\n",
       "  background-color: var(--sklearn-color-unfitted-level-0);\n",
       "}\n",
       "\n",
       "#sk-container-id-1 div.sk-toggleable__content.fitted pre {\n",
       "  /* unfitted */\n",
       "  background-color: var(--sklearn-color-fitted-level-0);\n",
       "}\n",
       "\n",
       "#sk-container-id-1 input.sk-toggleable__control:checked~div.sk-toggleable__content {\n",
       "  /* Expand drop-down */\n",
       "  display: block;\n",
       "  width: 100%;\n",
       "  overflow: visible;\n",
       "}\n",
       "\n",
       "#sk-container-id-1 input.sk-toggleable__control:checked~label.sk-toggleable__label-arrow:before {\n",
       "  content: \"▾\";\n",
       "}\n",
       "\n",
       "/* Pipeline/ColumnTransformer-specific style */\n",
       "\n",
       "#sk-container-id-1 div.sk-label input.sk-toggleable__control:checked~label.sk-toggleable__label {\n",
       "  color: var(--sklearn-color-text);\n",
       "  background-color: var(--sklearn-color-unfitted-level-2);\n",
       "}\n",
       "\n",
       "#sk-container-id-1 div.sk-label.fitted input.sk-toggleable__control:checked~label.sk-toggleable__label {\n",
       "  background-color: var(--sklearn-color-fitted-level-2);\n",
       "}\n",
       "\n",
       "/* Estimator-specific style */\n",
       "\n",
       "/* Colorize estimator box */\n",
       "#sk-container-id-1 div.sk-estimator input.sk-toggleable__control:checked~label.sk-toggleable__label {\n",
       "  /* unfitted */\n",
       "  background-color: var(--sklearn-color-unfitted-level-2);\n",
       "}\n",
       "\n",
       "#sk-container-id-1 div.sk-estimator.fitted input.sk-toggleable__control:checked~label.sk-toggleable__label {\n",
       "  /* fitted */\n",
       "  background-color: var(--sklearn-color-fitted-level-2);\n",
       "}\n",
       "\n",
       "#sk-container-id-1 div.sk-label label.sk-toggleable__label,\n",
       "#sk-container-id-1 div.sk-label label {\n",
       "  /* The background is the default theme color */\n",
       "  color: var(--sklearn-color-text-on-default-background);\n",
       "}\n",
       "\n",
       "/* On hover, darken the color of the background */\n",
       "#sk-container-id-1 div.sk-label:hover label.sk-toggleable__label {\n",
       "  color: var(--sklearn-color-text);\n",
       "  background-color: var(--sklearn-color-unfitted-level-2);\n",
       "}\n",
       "\n",
       "/* Label box, darken color on hover, fitted */\n",
       "#sk-container-id-1 div.sk-label.fitted:hover label.sk-toggleable__label.fitted {\n",
       "  color: var(--sklearn-color-text);\n",
       "  background-color: var(--sklearn-color-fitted-level-2);\n",
       "}\n",
       "\n",
       "/* Estimator label */\n",
       "\n",
       "#sk-container-id-1 div.sk-label label {\n",
       "  font-family: monospace;\n",
       "  font-weight: bold;\n",
       "  display: inline-block;\n",
       "  line-height: 1.2em;\n",
       "}\n",
       "\n",
       "#sk-container-id-1 div.sk-label-container {\n",
       "  text-align: center;\n",
       "}\n",
       "\n",
       "/* Estimator-specific */\n",
       "#sk-container-id-1 div.sk-estimator {\n",
       "  font-family: monospace;\n",
       "  border: 1px dotted var(--sklearn-color-border-box);\n",
       "  border-radius: 0.25em;\n",
       "  box-sizing: border-box;\n",
       "  margin-bottom: 0.5em;\n",
       "  /* unfitted */\n",
       "  background-color: var(--sklearn-color-unfitted-level-0);\n",
       "}\n",
       "\n",
       "#sk-container-id-1 div.sk-estimator.fitted {\n",
       "  /* fitted */\n",
       "  background-color: var(--sklearn-color-fitted-level-0);\n",
       "}\n",
       "\n",
       "/* on hover */\n",
       "#sk-container-id-1 div.sk-estimator:hover {\n",
       "  /* unfitted */\n",
       "  background-color: var(--sklearn-color-unfitted-level-2);\n",
       "}\n",
       "\n",
       "#sk-container-id-1 div.sk-estimator.fitted:hover {\n",
       "  /* fitted */\n",
       "  background-color: var(--sklearn-color-fitted-level-2);\n",
       "}\n",
       "\n",
       "/* Specification for estimator info (e.g. \"i\" and \"?\") */\n",
       "\n",
       "/* Common style for \"i\" and \"?\" */\n",
       "\n",
       ".sk-estimator-doc-link,\n",
       "a:link.sk-estimator-doc-link,\n",
       "a:visited.sk-estimator-doc-link {\n",
       "  float: right;\n",
       "  font-size: smaller;\n",
       "  line-height: 1em;\n",
       "  font-family: monospace;\n",
       "  background-color: var(--sklearn-color-background);\n",
       "  border-radius: 1em;\n",
       "  height: 1em;\n",
       "  width: 1em;\n",
       "  text-decoration: none !important;\n",
       "  margin-left: 0.5em;\n",
       "  text-align: center;\n",
       "  /* unfitted */\n",
       "  border: var(--sklearn-color-unfitted-level-1) 1pt solid;\n",
       "  color: var(--sklearn-color-unfitted-level-1);\n",
       "}\n",
       "\n",
       ".sk-estimator-doc-link.fitted,\n",
       "a:link.sk-estimator-doc-link.fitted,\n",
       "a:visited.sk-estimator-doc-link.fitted {\n",
       "  /* fitted */\n",
       "  border: var(--sklearn-color-fitted-level-1) 1pt solid;\n",
       "  color: var(--sklearn-color-fitted-level-1);\n",
       "}\n",
       "\n",
       "/* On hover */\n",
       "div.sk-estimator:hover .sk-estimator-doc-link:hover,\n",
       ".sk-estimator-doc-link:hover,\n",
       "div.sk-label-container:hover .sk-estimator-doc-link:hover,\n",
       ".sk-estimator-doc-link:hover {\n",
       "  /* unfitted */\n",
       "  background-color: var(--sklearn-color-unfitted-level-3);\n",
       "  color: var(--sklearn-color-background);\n",
       "  text-decoration: none;\n",
       "}\n",
       "\n",
       "div.sk-estimator.fitted:hover .sk-estimator-doc-link.fitted:hover,\n",
       ".sk-estimator-doc-link.fitted:hover,\n",
       "div.sk-label-container:hover .sk-estimator-doc-link.fitted:hover,\n",
       ".sk-estimator-doc-link.fitted:hover {\n",
       "  /* fitted */\n",
       "  background-color: var(--sklearn-color-fitted-level-3);\n",
       "  color: var(--sklearn-color-background);\n",
       "  text-decoration: none;\n",
       "}\n",
       "\n",
       "/* Span, style for the box shown on hovering the info icon */\n",
       ".sk-estimator-doc-link span {\n",
       "  display: none;\n",
       "  z-index: 9999;\n",
       "  position: relative;\n",
       "  font-weight: normal;\n",
       "  right: .2ex;\n",
       "  padding: .5ex;\n",
       "  margin: .5ex;\n",
       "  width: min-content;\n",
       "  min-width: 20ex;\n",
       "  max-width: 50ex;\n",
       "  color: var(--sklearn-color-text);\n",
       "  box-shadow: 2pt 2pt 4pt #999;\n",
       "  /* unfitted */\n",
       "  background: var(--sklearn-color-unfitted-level-0);\n",
       "  border: .5pt solid var(--sklearn-color-unfitted-level-3);\n",
       "}\n",
       "\n",
       ".sk-estimator-doc-link.fitted span {\n",
       "  /* fitted */\n",
       "  background: var(--sklearn-color-fitted-level-0);\n",
       "  border: var(--sklearn-color-fitted-level-3);\n",
       "}\n",
       "\n",
       ".sk-estimator-doc-link:hover span {\n",
       "  display: block;\n",
       "}\n",
       "\n",
       "/* \"?\"-specific style due to the `<a>` HTML tag */\n",
       "\n",
       "#sk-container-id-1 a.estimator_doc_link {\n",
       "  float: right;\n",
       "  font-size: 1rem;\n",
       "  line-height: 1em;\n",
       "  font-family: monospace;\n",
       "  background-color: var(--sklearn-color-background);\n",
       "  border-radius: 1rem;\n",
       "  height: 1rem;\n",
       "  width: 1rem;\n",
       "  text-decoration: none;\n",
       "  /* unfitted */\n",
       "  color: var(--sklearn-color-unfitted-level-1);\n",
       "  border: var(--sklearn-color-unfitted-level-1) 1pt solid;\n",
       "}\n",
       "\n",
       "#sk-container-id-1 a.estimator_doc_link.fitted {\n",
       "  /* fitted */\n",
       "  border: var(--sklearn-color-fitted-level-1) 1pt solid;\n",
       "  color: var(--sklearn-color-fitted-level-1);\n",
       "}\n",
       "\n",
       "/* On hover */\n",
       "#sk-container-id-1 a.estimator_doc_link:hover {\n",
       "  /* unfitted */\n",
       "  background-color: var(--sklearn-color-unfitted-level-3);\n",
       "  color: var(--sklearn-color-background);\n",
       "  text-decoration: none;\n",
       "}\n",
       "\n",
       "#sk-container-id-1 a.estimator_doc_link.fitted:hover {\n",
       "  /* fitted */\n",
       "  background-color: var(--sklearn-color-fitted-level-3);\n",
       "}\n",
       "\n",
       ".estimator-table summary {\n",
       "    padding: .5rem;\n",
       "    font-family: monospace;\n",
       "    cursor: pointer;\n",
       "}\n",
       "\n",
       ".estimator-table details[open] {\n",
       "    padding-left: 0.1rem;\n",
       "    padding-right: 0.1rem;\n",
       "    padding-bottom: 0.3rem;\n",
       "}\n",
       "\n",
       ".estimator-table .parameters-table {\n",
       "    margin-left: auto !important;\n",
       "    margin-right: auto !important;\n",
       "}\n",
       "\n",
       ".estimator-table .parameters-table tr:nth-child(odd) {\n",
       "    background-color: #fff;\n",
       "}\n",
       "\n",
       ".estimator-table .parameters-table tr:nth-child(even) {\n",
       "    background-color: #f6f6f6;\n",
       "}\n",
       "\n",
       ".estimator-table .parameters-table tr:hover {\n",
       "    background-color: #e0e0e0;\n",
       "}\n",
       "\n",
       ".estimator-table table td {\n",
       "    border: 1px solid rgba(106, 105, 104, 0.232);\n",
       "}\n",
       "\n",
       ".user-set td {\n",
       "    color:rgb(255, 94, 0);\n",
       "    text-align: left;\n",
       "}\n",
       "\n",
       ".user-set td.value pre {\n",
       "    color:rgb(255, 94, 0) !important;\n",
       "    background-color: transparent !important;\n",
       "}\n",
       "\n",
       ".default td {\n",
       "    color: black;\n",
       "    text-align: left;\n",
       "}\n",
       "\n",
       ".user-set td i,\n",
       ".default td i {\n",
       "    color: black;\n",
       "}\n",
       "\n",
       ".copy-paste-icon {\n",
       "    background-image: url(data:image/svg+xml;base64,PHN2ZyB4bWxucz0iaHR0cDovL3d3dy53My5vcmcvMjAwMC9zdmciIHZpZXdCb3g9IjAgMCA0NDggNTEyIj48IS0tIUZvbnQgQXdlc29tZSBGcmVlIDYuNy4yIGJ5IEBmb250YXdlc29tZSAtIGh0dHBzOi8vZm9udGF3ZXNvbWUuY29tIExpY2Vuc2UgLSBodHRwczovL2ZvbnRhd2Vzb21lLmNvbS9saWNlbnNlL2ZyZWUgQ29weXJpZ2h0IDIwMjUgRm9udGljb25zLCBJbmMuLS0+PHBhdGggZD0iTTIwOCAwTDMzMi4xIDBjMTIuNyAwIDI0LjkgNS4xIDMzLjkgMTQuMWw2Ny45IDY3LjljOSA5IDE0LjEgMjEuMiAxNC4xIDMzLjlMNDQ4IDMzNmMwIDI2LjUtMjEuNSA0OC00OCA0OGwtMTkyIDBjLTI2LjUgMC00OC0yMS41LTQ4LTQ4bDAtMjg4YzAtMjYuNSAyMS41LTQ4IDQ4LTQ4ek00OCAxMjhsODAgMCAwIDY0LTY0IDAgMCAyNTYgMTkyIDAgMC0zMiA2NCAwIDAgNDhjMCAyNi41LTIxLjUgNDgtNDggNDhMNDggNTEyYy0yNi41IDAtNDgtMjEuNS00OC00OEwwIDE3NmMwLTI2LjUgMjEuNS00OCA0OC00OHoiLz48L3N2Zz4=);\n",
       "    background-repeat: no-repeat;\n",
       "    background-size: 14px 14px;\n",
       "    background-position: 0;\n",
       "    display: inline-block;\n",
       "    width: 14px;\n",
       "    height: 14px;\n",
       "    cursor: pointer;\n",
       "}\n",
       "</style><body><div id=\"sk-container-id-1\" class=\"sk-top-container\"><div class=\"sk-text-repr-fallback\"><pre>SVC(kernel=&#x27;linear&#x27;)</pre><b>In a Jupyter environment, please rerun this cell to show the HTML representation or trust the notebook. <br />On GitHub, the HTML representation is unable to render, please try loading this page with nbviewer.org.</b></div><div class=\"sk-container\" hidden><div class=\"sk-item\"><div class=\"sk-estimator fitted sk-toggleable\"><input class=\"sk-toggleable__control sk-hidden--visually\" id=\"sk-estimator-id-1\" type=\"checkbox\" checked><label for=\"sk-estimator-id-1\" class=\"sk-toggleable__label fitted sk-toggleable__label-arrow\"><div><div>SVC</div></div><div><a class=\"sk-estimator-doc-link fitted\" rel=\"noreferrer\" target=\"_blank\" href=\"https://scikit-learn.org/1.7/modules/generated/sklearn.svm.SVC.html\">?<span>Documentation for SVC</span></a><span class=\"sk-estimator-doc-link fitted\">i<span>Fitted</span></span></div></label><div class=\"sk-toggleable__content fitted\" data-param-prefix=\"\">\n",
       "        <div class=\"estimator-table\">\n",
       "            <details>\n",
       "                <summary>Parameters</summary>\n",
       "                <table class=\"parameters-table\">\n",
       "                  <tbody>\n",
       "                    \n",
       "        <tr class=\"default\">\n",
       "            <td><i class=\"copy-paste-icon\"\n",
       "                 onclick=\"copyToClipboard('C',\n",
       "                          this.parentElement.nextElementSibling)\"\n",
       "            ></i></td>\n",
       "            <td class=\"param\">C&nbsp;</td>\n",
       "            <td class=\"value\">1.0</td>\n",
       "        </tr>\n",
       "    \n",
       "\n",
       "        <tr class=\"user-set\">\n",
       "            <td><i class=\"copy-paste-icon\"\n",
       "                 onclick=\"copyToClipboard('kernel',\n",
       "                          this.parentElement.nextElementSibling)\"\n",
       "            ></i></td>\n",
       "            <td class=\"param\">kernel&nbsp;</td>\n",
       "            <td class=\"value\">&#x27;linear&#x27;</td>\n",
       "        </tr>\n",
       "    \n",
       "\n",
       "        <tr class=\"default\">\n",
       "            <td><i class=\"copy-paste-icon\"\n",
       "                 onclick=\"copyToClipboard('degree',\n",
       "                          this.parentElement.nextElementSibling)\"\n",
       "            ></i></td>\n",
       "            <td class=\"param\">degree&nbsp;</td>\n",
       "            <td class=\"value\">3</td>\n",
       "        </tr>\n",
       "    \n",
       "\n",
       "        <tr class=\"default\">\n",
       "            <td><i class=\"copy-paste-icon\"\n",
       "                 onclick=\"copyToClipboard('gamma',\n",
       "                          this.parentElement.nextElementSibling)\"\n",
       "            ></i></td>\n",
       "            <td class=\"param\">gamma&nbsp;</td>\n",
       "            <td class=\"value\">&#x27;scale&#x27;</td>\n",
       "        </tr>\n",
       "    \n",
       "\n",
       "        <tr class=\"default\">\n",
       "            <td><i class=\"copy-paste-icon\"\n",
       "                 onclick=\"copyToClipboard('coef0',\n",
       "                          this.parentElement.nextElementSibling)\"\n",
       "            ></i></td>\n",
       "            <td class=\"param\">coef0&nbsp;</td>\n",
       "            <td class=\"value\">0.0</td>\n",
       "        </tr>\n",
       "    \n",
       "\n",
       "        <tr class=\"default\">\n",
       "            <td><i class=\"copy-paste-icon\"\n",
       "                 onclick=\"copyToClipboard('shrinking',\n",
       "                          this.parentElement.nextElementSibling)\"\n",
       "            ></i></td>\n",
       "            <td class=\"param\">shrinking&nbsp;</td>\n",
       "            <td class=\"value\">True</td>\n",
       "        </tr>\n",
       "    \n",
       "\n",
       "        <tr class=\"default\">\n",
       "            <td><i class=\"copy-paste-icon\"\n",
       "                 onclick=\"copyToClipboard('probability',\n",
       "                          this.parentElement.nextElementSibling)\"\n",
       "            ></i></td>\n",
       "            <td class=\"param\">probability&nbsp;</td>\n",
       "            <td class=\"value\">False</td>\n",
       "        </tr>\n",
       "    \n",
       "\n",
       "        <tr class=\"default\">\n",
       "            <td><i class=\"copy-paste-icon\"\n",
       "                 onclick=\"copyToClipboard('tol',\n",
       "                          this.parentElement.nextElementSibling)\"\n",
       "            ></i></td>\n",
       "            <td class=\"param\">tol&nbsp;</td>\n",
       "            <td class=\"value\">0.001</td>\n",
       "        </tr>\n",
       "    \n",
       "\n",
       "        <tr class=\"default\">\n",
       "            <td><i class=\"copy-paste-icon\"\n",
       "                 onclick=\"copyToClipboard('cache_size',\n",
       "                          this.parentElement.nextElementSibling)\"\n",
       "            ></i></td>\n",
       "            <td class=\"param\">cache_size&nbsp;</td>\n",
       "            <td class=\"value\">200</td>\n",
       "        </tr>\n",
       "    \n",
       "\n",
       "        <tr class=\"default\">\n",
       "            <td><i class=\"copy-paste-icon\"\n",
       "                 onclick=\"copyToClipboard('class_weight',\n",
       "                          this.parentElement.nextElementSibling)\"\n",
       "            ></i></td>\n",
       "            <td class=\"param\">class_weight&nbsp;</td>\n",
       "            <td class=\"value\">None</td>\n",
       "        </tr>\n",
       "    \n",
       "\n",
       "        <tr class=\"default\">\n",
       "            <td><i class=\"copy-paste-icon\"\n",
       "                 onclick=\"copyToClipboard('verbose',\n",
       "                          this.parentElement.nextElementSibling)\"\n",
       "            ></i></td>\n",
       "            <td class=\"param\">verbose&nbsp;</td>\n",
       "            <td class=\"value\">False</td>\n",
       "        </tr>\n",
       "    \n",
       "\n",
       "        <tr class=\"default\">\n",
       "            <td><i class=\"copy-paste-icon\"\n",
       "                 onclick=\"copyToClipboard('max_iter',\n",
       "                          this.parentElement.nextElementSibling)\"\n",
       "            ></i></td>\n",
       "            <td class=\"param\">max_iter&nbsp;</td>\n",
       "            <td class=\"value\">-1</td>\n",
       "        </tr>\n",
       "    \n",
       "\n",
       "        <tr class=\"default\">\n",
       "            <td><i class=\"copy-paste-icon\"\n",
       "                 onclick=\"copyToClipboard('decision_function_shape',\n",
       "                          this.parentElement.nextElementSibling)\"\n",
       "            ></i></td>\n",
       "            <td class=\"param\">decision_function_shape&nbsp;</td>\n",
       "            <td class=\"value\">&#x27;ovr&#x27;</td>\n",
       "        </tr>\n",
       "    \n",
       "\n",
       "        <tr class=\"default\">\n",
       "            <td><i class=\"copy-paste-icon\"\n",
       "                 onclick=\"copyToClipboard('break_ties',\n",
       "                          this.parentElement.nextElementSibling)\"\n",
       "            ></i></td>\n",
       "            <td class=\"param\">break_ties&nbsp;</td>\n",
       "            <td class=\"value\">False</td>\n",
       "        </tr>\n",
       "    \n",
       "\n",
       "        <tr class=\"default\">\n",
       "            <td><i class=\"copy-paste-icon\"\n",
       "                 onclick=\"copyToClipboard('random_state',\n",
       "                          this.parentElement.nextElementSibling)\"\n",
       "            ></i></td>\n",
       "            <td class=\"param\">random_state&nbsp;</td>\n",
       "            <td class=\"value\">None</td>\n",
       "        </tr>\n",
       "    \n",
       "                  </tbody>\n",
       "                </table>\n",
       "            </details>\n",
       "        </div>\n",
       "    </div></div></div></div></div><script>function copyToClipboard(text, element) {\n",
       "    // Get the parameter prefix from the closest toggleable content\n",
       "    const toggleableContent = element.closest('.sk-toggleable__content');\n",
       "    const paramPrefix = toggleableContent ? toggleableContent.dataset.paramPrefix : '';\n",
       "    const fullParamName = paramPrefix ? `${paramPrefix}${text}` : text;\n",
       "\n",
       "    const originalStyle = element.style;\n",
       "    const computedStyle = window.getComputedStyle(element);\n",
       "    const originalWidth = computedStyle.width;\n",
       "    const originalHTML = element.innerHTML.replace('Copied!', '');\n",
       "\n",
       "    navigator.clipboard.writeText(fullParamName)\n",
       "        .then(() => {\n",
       "            element.style.width = originalWidth;\n",
       "            element.style.color = 'green';\n",
       "            element.innerHTML = \"Copied!\";\n",
       "\n",
       "            setTimeout(() => {\n",
       "                element.innerHTML = originalHTML;\n",
       "                element.style = originalStyle;\n",
       "            }, 2000);\n",
       "        })\n",
       "        .catch(err => {\n",
       "            console.error('Failed to copy:', err);\n",
       "            element.style.color = 'red';\n",
       "            element.innerHTML = \"Failed!\";\n",
       "            setTimeout(() => {\n",
       "                element.innerHTML = originalHTML;\n",
       "                element.style = originalStyle;\n",
       "            }, 2000);\n",
       "        });\n",
       "    return false;\n",
       "}\n",
       "\n",
       "document.querySelectorAll('.fa-regular.fa-copy').forEach(function(element) {\n",
       "    const toggleableContent = element.closest('.sk-toggleable__content');\n",
       "    const paramPrefix = toggleableContent ? toggleableContent.dataset.paramPrefix : '';\n",
       "    const paramName = element.parentElement.nextElementSibling.textContent.trim();\n",
       "    const fullParamName = paramPrefix ? `${paramPrefix}${paramName}` : paramName;\n",
       "\n",
       "    element.setAttribute('title', fullParamName);\n",
       "});\n",
       "</script></body>"
      ],
      "text/plain": [
       "SVC(kernel='linear')"
      ]
     },
     "execution_count": 30,
     "metadata": {},
     "output_type": "execute_result"
    }
   ],
   "source": [
    "# モデルの定義\n",
    "from sklearn.svm import SVC\n",
    "clf = SVC(kernel=\"linear\")\n",
    "clf.fit(train.drop([\"survived\"] ,axis=1), train[\"survived\"])"
   ]
  },
  {
   "cell_type": "code",
   "execution_count": 31,
   "metadata": {
    "colab": {
     "base_uri": "https://localhost:8080/"
    },
    "executionInfo": {
     "elapsed": 28,
     "status": "ok",
     "timestamp": 1757833213770,
     "user": {
      "displayName": "毛島凜乃",
      "userId": "11721115663229112731"
     },
     "user_tz": -540
    },
    "id": "LBjrc_eaztHp",
    "outputId": "c4dce19a-99ea-44f2-c20a-313ba9d394c0"
   },
   "outputs": [
    {
     "name": "stdout",
     "output_type": "stream",
     "text": [
      "train score :  0.7910112359550562\n"
     ]
    }
   ],
   "source": [
    "# モデルの検証\n",
    "print('train score : ', clf.score(train.drop(\"survived\", axis=1), train[\"survived\"]))"
   ]
  },
  {
   "cell_type": "markdown",
   "metadata": {
    "id": "tewd4nJ32e3a"
   },
   "source": [
    "| 処理内容 | コード例                             |\n",
    "| ---- | -------------------------------- |\n",
    "| 学習   | `model.fit(X_train, y_train)`    |\n",
    "| 予測   | `model.predict(X_test)`          |\n",
    "| 確率予測 | `model.predict_proba(X_test)`    |\n",
    "| 精度評価 | `accuracy_score(y_test, y_pred)` |\n"
   ]
  },
  {
   "cell_type": "code",
   "execution_count": 32,
   "metadata": {
    "colab": {
     "base_uri": "https://localhost:8080/"
    },
    "executionInfo": {
     "elapsed": 9,
     "status": "ok",
     "timestamp": 1757833213770,
     "user": {
      "displayName": "毛島凜乃",
      "userId": "11721115663229112731"
     },
     "user_tz": -540
    },
    "id": "358l4Tis0j2o",
    "outputId": "f860d77c-5842-4611-91e2-2c44e7390e4f"
   },
   "outputs": [
    {
     "name": "stdout",
     "output_type": "stream",
     "text": [
      "pclass    446\n",
      "sex       446\n",
      "C         446\n",
      "Q         446\n",
      "S         446\n",
      "age       446\n",
      "sibsp     446\n",
      "parch     446\n",
      "fare      446\n",
      "dtype: int64\n"
     ]
    }
   ],
   "source": [
    "pred = clf.predict(test)\n",
    "pred = pd.DataFrame(pred, columns=['survived'])\n",
    "pred.dropna(axis=0)\n",
    "print(test.isna().count())"
   ]
  },
  {
   "cell_type": "code",
   "execution_count": 33,
   "metadata": {
    "colab": {
     "base_uri": "https://localhost:8080/"
    },
    "executionInfo": {
     "elapsed": 37,
     "status": "ok",
     "timestamp": 1757833213805,
     "user": {
      "displayName": "毛島凜乃",
      "userId": "11721115663229112731"
     },
     "user_tz": -540
    },
    "id": "w-5qMAHmByfi",
    "outputId": "8add6729-4dc5-42b1-8157-9a319bf1fe8d"
   },
   "outputs": [
    {
     "name": "stdout",
     "output_type": "stream",
     "text": [
      "index       446\n",
      "pclass      446\n",
      "sex         446\n",
      "C           446\n",
      "Q           446\n",
      "S           446\n",
      "age         446\n",
      "sibsp       446\n",
      "parch       446\n",
      "fare        446\n",
      "survived    446\n",
      "dtype: int64\n"
     ]
    }
   ],
   "source": [
    "test = pd.concat([test.reset_index(drop=False), pred.reset_index(drop=True)], axis=1)\n",
    "print(test.isna().count())\n",
    "submit = test.drop([\"pclass\",\"age\",\"sibsp\",\"parch\",\"fare\",\"S\",\"C\",\"Q\",\"sex\"],axis=1)\n",
    "#print(submit.isna().count())"
   ]
  },
  {
   "cell_type": "code",
   "execution_count": 34,
   "metadata": {
    "colab": {
     "base_uri": "https://localhost:8080/",
     "height": 146
    },
    "executionInfo": {
     "elapsed": 3,
     "status": "ok",
     "timestamp": 1757833213809,
     "user": {
      "displayName": "毛島凜乃",
      "userId": "11721115663229112731"
     },
     "user_tz": -540
    },
    "id": "Z1-idETQ_ohv",
    "outputId": "b22c64cb-be20-4e6e-e697-66ff7694f434"
   },
   "outputs": [
    {
     "data": {
      "text/plain": [
       "index       446\n",
       "survived    446\n",
       "dtype: int64"
      ]
     },
     "execution_count": 34,
     "metadata": {},
     "output_type": "execute_result"
    }
   ],
   "source": [
    "submit.isna().count()"
   ]
  },
  {
   "cell_type": "code",
   "execution_count": 35,
   "metadata": {
    "id": "5CaL8HuM4FWi"
   },
   "outputs": [],
   "source": [
    "# prompt: DataFrame submit を使用: csvを作成する\n",
    "\n",
    "submit.to_csv('submit_linear2.csv', index=False, header=False)"
   ]
  },
  {
   "cell_type": "code",
   "execution_count": 36,
   "metadata": {
    "colab": {
     "base_uri": "https://localhost:8080/"
    },
    "executionInfo": {
     "elapsed": 22,
     "status": "ok",
     "timestamp": 1757833213836,
     "user": {
      "displayName": "毛島凜乃",
      "userId": "11721115663229112731"
     },
     "user_tz": -540
    },
    "id": "nQanIlxdEZwr",
    "outputId": "5d10c7a9-bfd9-4351-969c-93ff137bd273"
   },
   "outputs": [
    {
     "name": "stdout",
     "output_type": "stream",
     "text": [
      "[[-1.03780833e-04  2.00012661e+00 -1.42403613e-04  1.21318713e-04\n",
      "   2.10849003e-05  9.40738878e-05 -3.35191596e-06 -5.80840868e-05\n",
      "  -1.94596311e-06]]\n"
     ]
    }
   ],
   "source": [
    "# 特徴量の重み\n",
    "print(clf.coef_)"
   ]
  },
  {
   "cell_type": "markdown",
   "metadata": {
    "id": "RBq56wf3BiaJ"
   },
   "source": [
    "PowerTransformerありとなしで結果が変わらなかった、、"
   ]
  }
 ],
 "metadata": {
  "colab": {
   "authorship_tag": "ABX9TyM0EVNYppT/OU5k4rzfw9KP",
   "mount_file_id": "1L2KTYBx46lWYbCcQ6OKue2dNpV1PMpVc",
   "provenance": []
  },
  "kernelspec": {
   "display_name": "Python 3",
   "name": "python3"
  },
  "language_info": {
   "codemirror_mode": {
    "name": "ipython",
    "version": 3
   },
   "file_extension": ".py",
   "mimetype": "text/x-python",
   "name": "python",
   "nbconvert_exporter": "python",
   "pygments_lexer": "ipython3",
   "version": "3.11.9"
  }
 },
 "nbformat": 4,
 "nbformat_minor": 0
}
